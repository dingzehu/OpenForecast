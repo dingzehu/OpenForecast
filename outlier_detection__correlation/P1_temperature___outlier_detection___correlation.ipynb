{
 "cells": [
  {
   "cell_type": "code",
   "execution_count": 13,
   "metadata": {},
   "outputs": [],
   "source": [
    "!pip -q install pyshp\n",
    "!pip -q install influxdb\n",
    "!pip -q install shapely\n",
    "!pip -q install ipyleaflet\n",
    "!pip -q install plotly"
   ]
  },
  {
   "cell_type": "code",
   "execution_count": 14,
   "metadata": {},
   "outputs": [],
   "source": [
    "import shapefile\n",
    "import pandas as pd\n",
    "import plotly.graph_objects as go\n",
    "import matplotlib.pyplot as plt\n",
    "import time\n",
    "import numpy as np\n",
    "import tarfile\n",
    "import os\n",
    "from six.moves import urllib\n",
    "import json\n",
    "from influxdb import DataFrameClient\n",
    "from dotenv import load_dotenv\n",
    "from shapely.geometry import Point, Polygon\n",
    "from ipyleaflet import Map, GeoJSON, basemaps, Polyline, Heatmap\n",
    "import requests\n",
    "from datetime import datetime, timedelta\n",
    "from scipy.stats import gaussian_kde\n",
    "from scipy import stats\n",
    "%matplotlib inline\n",
    "\n",
    "load_dotenv()"
   ]
  },
  {
   "cell_type": "code",
   "execution_count": 16,
   "metadata": {},
   "outputs": [],
   "source": [
    "def rm_outside_polygon(res_pd_frame,polygon):\n",
    "    res_pd_frame_1 = res_pd_frame[['lon','lat','sensor_id']]\n",
    "    res_pd_frame_2 = res_pd_frame_1.reset_index()\n",
    "    res_pd_frame_3 = res_pd_frame_2.drop(columns=['index'])\n",
    "    res_pd_frame4 = res_pd_frame_3.drop_duplicates()\n",
    "    res_pd_frame4[\"polygon1\"] = res_pd_frame4.apply(lambda row: Polygon(poly).intersects(Point(row[\"lon\"], row[\"lat\"])), axis = 1)\n",
    "    res_pd_frame5 = res_pd_frame4.drop(res_pd_frame4[res_pd_frame4[\"polygon1\"]].index)\n",
    "    res_pd_frame = res_pd_frame[~res_pd_frame.sensor_id.isin(res_pd_frame5.sensor_id)]     \n",
    "    return res_pd_frame"
   ]
  },
  {
   "cell_type": "code",
   "execution_count": 20,
   "metadata": {},
   "outputs": [],
   "source": [
    "#sf = shapefile.Reader(\"landkreise-in-germany.shp\") # This is Göttingen\n",
    "#s = sf.shape(0)\n",
    "\n",
    "sf = shapefile.Reader(\"bundesland.shp\") # Complete germany, 16 shapes for each bundesland\n",
    "s = sf.shape(3) # Baden-Württemberg\n",
    "poly = Polygon(s.points)  # Convert to polygon to use shapely function point.within(polygon)\n",
    "\n",
    "geo_json = GeoJSON(data=s.__geo_interface__, style = {'color': 'red', 'opacity':1, 'weight':1.9, 'dashArray':'9', 'fillOpacity':0.1})"
   ]
  },
  {
   "cell_type": "code",
   "execution_count": 21,
   "metadata": {},
   "outputs": [],
   "source": [
    "def main(host=os.getenv(\"HOST\"), port=os.getenv(\"PORT\"), rectangle=[0,0,0,0],time_range=[\"\",\"\"],limit=100):\n",
    "    \"\"\"Instantiate the connection to the InfluxDB client.\"\"\"\n",
    "    user = os.getenv(\"USER\")\n",
    "    password = os.getenv(\"PASSWORD\")\n",
    "    dbname = os.getenv(\"DB\")\n",
    "    protocol = 'line'\n",
    "\n",
    "    client = DataFrameClient(host, port, user, password, dbname, ssl=True, verify_ssl=True)\n",
    "\n",
    "    bind_params = {\n",
    "        \"start_time_epoch\": time_range[0],\n",
    "        \"end_time_epoch\": time_range[1]\n",
    "    }\n",
    "    \n",
    "    measurement = \"P1, temperature, lat, lon, sensor_id\"\n",
    "    \n",
    "    query = f\"select {measurement} from sensor where \\\n",
    "                     time > $start_time_epoch AND \\\n",
    "                     time < $end_time_epoch AND \\\n",
    "                     lon > {rectangle[0]} AND \\\n",
    "                     lon < {rectangle[2]} AND \\\n",
    "                     lat > {rectangle[1]} AND \\\n",
    "                     lat < {rectangle[3]} \\\n",
    "                     limit {limit}\"\n",
    "                \n",
    "    res=client.query(query, bind_params=bind_params)\n",
    "    return res"
   ]
  },
  {
   "cell_type": "code",
   "execution_count": 22,
   "metadata": {},
   "outputs": [],
   "source": [
    "m = Map(center=(48.7,9.8,0 ), zoom=8, basemap=basemaps.Hydda.Full)\n",
    "m.add_layer(geo_json)"
   ]
  },
  {
   "cell_type": "markdown",
   "metadata": {},
   "source": [
    "## Change the 'start_date' & 'date_to_end_query' for changing the time duration of query"
   ]
  },
  {
   "cell_type": "code",
   "execution_count": 23,
   "metadata": {
    "scrolled": true
   },
   "outputs": [
    {
     "name": "stdout",
     "output_type": "stream",
     "text": [
      "['2017-01-02T00:00:00Z', '2017-01-02T01:00:00Z']\n"
     ]
    },
    {
     "name": "stderr",
     "output_type": "stream",
     "text": [
      "/opt/conda/lib/python3.7/site-packages/ipykernel_launcher.py:6: SettingWithCopyWarning:\n",
      "\n",
      "\n",
      "A value is trying to be set on a copy of a slice from a DataFrame.\n",
      "Try using .loc[row_indexer,col_indexer] = value instead\n",
      "\n",
      "See the caveats in the documentation: http://pandas.pydata.org/pandas-docs/stable/user_guide/indexing.html#returning-a-view-versus-a-copy\n",
      "\n"
     ]
    },
    {
     "name": "stdout",
     "output_type": "stream",
     "text": [
      "--- 1.5419509410858154 seconds ---\n",
      "['2017-01-02T01:00:00Z', '2017-01-02T02:00:00Z']\n",
      "--- 1.5940306186676025 seconds ---\n",
      "['2017-01-02T02:00:00Z', '2017-01-02T03:00:00Z']\n",
      "--- 1.4282112121582031 seconds ---\n",
      "['2017-01-02T03:00:00Z', '2017-01-02T04:00:00Z']\n",
      "--- 1.5793097019195557 seconds ---\n",
      "['2017-01-02T04:00:00Z', '2017-01-02T05:00:00Z']\n",
      "--- 1.4746289253234863 seconds ---\n",
      "['2017-01-02T05:00:00Z', '2017-01-02T06:00:00Z']\n",
      "--- 1.4570822715759277 seconds ---\n",
      "['2017-01-02T06:00:00Z', '2017-01-02T07:00:00Z']\n",
      "--- 1.443408727645874 seconds ---\n",
      "['2017-01-02T07:00:00Z', '2017-01-02T08:00:00Z']\n",
      "--- 1.4560017585754395 seconds ---\n",
      "['2017-01-02T08:00:00Z', '2017-01-02T09:00:00Z']\n",
      "--- 1.707411766052246 seconds ---\n",
      "['2017-01-02T09:00:00Z', '2017-01-02T10:00:00Z']\n",
      "--- 1.54087495803833 seconds ---\n",
      "['2017-01-02T10:00:00Z', '2017-01-02T11:00:00Z']\n",
      "--- 1.3880529403686523 seconds ---\n",
      "['2017-01-02T11:00:00Z', '2017-01-02T12:00:00Z']\n",
      "--- 1.4487309455871582 seconds ---\n",
      "['2017-01-02T12:00:00Z', '2017-01-02T13:00:00Z']\n",
      "--- 1.4217426776885986 seconds ---\n",
      "['2017-01-02T13:00:00Z', '2017-01-02T14:00:00Z']\n",
      "--- 1.4338324069976807 seconds ---\n",
      "['2017-01-02T14:00:00Z', '2017-01-02T15:00:00Z']\n",
      "--- 1.4805331230163574 seconds ---\n",
      "['2017-01-02T15:00:00Z', '2017-01-02T16:00:00Z']\n",
      "--- 1.4608111381530762 seconds ---\n",
      "['2017-01-02T16:00:00Z', '2017-01-02T17:00:00Z']\n",
      "--- 1.5246894359588623 seconds ---\n",
      "['2017-01-02T17:00:00Z', '2017-01-02T18:00:00Z']\n",
      "--- 1.3985347747802734 seconds ---\n",
      "['2017-01-02T18:00:00Z', '2017-01-02T19:00:00Z']\n",
      "--- 1.418161153793335 seconds ---\n",
      "['2017-01-02T19:00:00Z', '2017-01-02T20:00:00Z']\n",
      "--- 1.3894391059875488 seconds ---\n",
      "['2017-01-02T20:00:00Z', '2017-01-02T21:00:00Z']\n",
      "--- 1.4215047359466553 seconds ---\n",
      "['2017-01-02T21:00:00Z', '2017-01-02T22:00:00Z']\n",
      "--- 1.6587562561035156 seconds ---\n",
      "['2017-01-02T22:00:00Z', '2017-01-02T23:00:00Z']\n",
      "--- 1.7803144454956055 seconds ---\n",
      "['2017-01-02T23:00:00Z', '2017-01-03T00:00:00Z']\n",
      "--- 1.42338228225708 seconds ---\n"
     ]
    },
    {
     "data": {
      "text/html": [
       "<div>\n",
       "<style scoped>\n",
       "    .dataframe tbody tr th:only-of-type {\n",
       "        vertical-align: middle;\n",
       "    }\n",
       "\n",
       "    .dataframe tbody tr th {\n",
       "        vertical-align: top;\n",
       "    }\n",
       "\n",
       "    .dataframe thead th {\n",
       "        text-align: right;\n",
       "    }\n",
       "</style>\n",
       "<table border=\"1\" class=\"dataframe\">\n",
       "  <thead>\n",
       "    <tr style=\"text-align: right;\">\n",
       "      <th></th>\n",
       "      <th>P1</th>\n",
       "      <th>temperature</th>\n",
       "    </tr>\n",
       "  </thead>\n",
       "  <tbody>\n",
       "    <tr>\n",
       "      <th>2017-01-02 00:00:00</th>\n",
       "      <td>1390.907851</td>\n",
       "      <td>-1.556795</td>\n",
       "    </tr>\n",
       "    <tr>\n",
       "      <th>2017-01-02 01:00:00</th>\n",
       "      <td>485.289026</td>\n",
       "      <td>-1.972844</td>\n",
       "    </tr>\n",
       "    <tr>\n",
       "      <th>2017-01-02 02:00:00</th>\n",
       "      <td>874.504325</td>\n",
       "      <td>-1.889298</td>\n",
       "    </tr>\n",
       "    <tr>\n",
       "      <th>2017-01-02 03:00:00</th>\n",
       "      <td>449.250815</td>\n",
       "      <td>-1.804539</td>\n",
       "    </tr>\n",
       "    <tr>\n",
       "      <th>2017-01-02 04:00:00</th>\n",
       "      <td>874.859992</td>\n",
       "      <td>-1.671390</td>\n",
       "    </tr>\n",
       "    <tr>\n",
       "      <th>...</th>\n",
       "      <td>...</td>\n",
       "      <td>...</td>\n",
       "    </tr>\n",
       "    <tr>\n",
       "      <th>2017-01-02 19:00:00</th>\n",
       "      <td>774.643935</td>\n",
       "      <td>1.390767</td>\n",
       "    </tr>\n",
       "    <tr>\n",
       "      <th>2017-01-02 20:00:00</th>\n",
       "      <td>916.718162</td>\n",
       "      <td>1.346831</td>\n",
       "    </tr>\n",
       "    <tr>\n",
       "      <th>2017-01-02 21:00:00</th>\n",
       "      <td>1005.864328</td>\n",
       "      <td>1.308699</td>\n",
       "    </tr>\n",
       "    <tr>\n",
       "      <th>2017-01-02 22:00:00</th>\n",
       "      <td>1034.373806</td>\n",
       "      <td>1.233799</td>\n",
       "    </tr>\n",
       "    <tr>\n",
       "      <th>2017-01-02 23:00:00</th>\n",
       "      <td>809.709398</td>\n",
       "      <td>1.012060</td>\n",
       "    </tr>\n",
       "  </tbody>\n",
       "</table>\n",
       "<p>24 rows × 2 columns</p>\n",
       "</div>"
      ],
      "text/plain": [
       "                              P1  temperature\n",
       "2017-01-02 00:00:00  1390.907851    -1.556795\n",
       "2017-01-02 01:00:00   485.289026    -1.972844\n",
       "2017-01-02 02:00:00   874.504325    -1.889298\n",
       "2017-01-02 03:00:00   449.250815    -1.804539\n",
       "2017-01-02 04:00:00   874.859992    -1.671390\n",
       "...                          ...          ...\n",
       "2017-01-02 19:00:00   774.643935     1.390767\n",
       "2017-01-02 20:00:00   916.718162     1.346831\n",
       "2017-01-02 21:00:00  1005.864328     1.308699\n",
       "2017-01-02 22:00:00  1034.373806     1.233799\n",
       "2017-01-02 23:00:00   809.709398     1.012060\n",
       "\n",
       "[24 rows x 2 columns]"
      ]
     },
     "execution_count": 23,
     "metadata": {},
     "output_type": "execute_result"
    }
   ],
   "source": [
    "start_date = datetime(2017, 1, 2)\n",
    "end_date = start_date + timedelta(hours=1)\n",
    "\n",
    "date_to_start_query = start_date\n",
    "date_to_end_query = datetime(2017, 1, 3)\n",
    "\n",
    "appended_res_pd_frame_plot_timeindex = []\n",
    "appended_drop_P1 = []\n",
    "appended_mean_P1_humi = []\n",
    "\n",
    "j = 0\n",
    "number = 5\n",
    "while number >= 5:\n",
    "    start_time = time.time()\n",
    "    \n",
    "    time_range=[start_date.strftime(\"%Y-%m-%dT%H:%M:%SZ\"),end_date.strftime(\"%Y-%m-%dT%H:%M:%SZ\")]\n",
    "    print(time_range)\n",
    "    \n",
    "    res_P1_humi=main(rectangle=s.bbox,time_range=time_range,limit=10000)\n",
    "    \n",
    "    if not res_P1_humi:\n",
    "        print('Data empty in %s' %time_range)\n",
    "        start_date=end_date\n",
    "        end_date=start_date + timedelta(hours=1)\n",
    "        \n",
    "    if res_P1_humi:    \n",
    "        res_pd_frame_P1_humi=rm_outside_polygon(res_P1_humi['sensor'],poly)\n",
    "            \n",
    "        res_pd_frame_P1_humi = res_pd_frame_P1_humi.drop([ 'lat', 'lon', 'sensor_id'], axis = 1)\n",
    "        res_pd_frame_mean_P1_humi = res_pd_frame_P1_humi.mean(axis = 0, skipna = True)\n",
    "        res_pd_frame_mean_P1_humi = res_pd_frame_mean_P1_humi.to_frame()\n",
    "        res_pd_frame_mean_P1_humi = res_pd_frame_mean_P1_humi.swapaxes(\"index\", \"columns\") \n",
    "        res_pd_frame_mean_P1_humi = res_pd_frame_mean_P1_humi.rename(index={0: start_date})\n",
    "\n",
    "        appended_mean_P1_humi.append(res_pd_frame_mean_P1_humi)  \n",
    "\n",
    "\n",
    "        start_date=end_date\n",
    "        end_date=start_date + timedelta(hours=1)\n",
    "        print(\"--- %s seconds ---\" % (time.time() - start_time))\n",
    "    \n",
    "    if start_date == date_to_end_query: # 7-2=5, 5 days, therefore the variable of k and j in the last cell should be 5\n",
    "        break\n",
    "\n",
    "appended_mean_P1_humi = pd.concat(appended_mean_P1_humi)\n",
    "appended_mean_P1_humi"
   ]
  },
  {
   "cell_type": "code",
   "execution_count": 24,
   "metadata": {},
   "outputs": [
    {
     "data": {
      "text/html": [
       "<div>\n",
       "<style scoped>\n",
       "    .dataframe tbody tr th:only-of-type {\n",
       "        vertical-align: middle;\n",
       "    }\n",
       "\n",
       "    .dataframe tbody tr th {\n",
       "        vertical-align: top;\n",
       "    }\n",
       "\n",
       "    .dataframe thead th {\n",
       "        text-align: right;\n",
       "    }\n",
       "</style>\n",
       "<table border=\"1\" class=\"dataframe\">\n",
       "  <thead>\n",
       "    <tr style=\"text-align: right;\">\n",
       "      <th></th>\n",
       "      <th>P1</th>\n",
       "      <th>temperature</th>\n",
       "    </tr>\n",
       "  </thead>\n",
       "  <tbody>\n",
       "    <tr>\n",
       "      <th>2017-01-02 00:00:00</th>\n",
       "      <td>1390.907851</td>\n",
       "      <td>-1.556795</td>\n",
       "    </tr>\n",
       "    <tr>\n",
       "      <th>2017-01-02 01:00:00</th>\n",
       "      <td>485.289026</td>\n",
       "      <td>-1.972844</td>\n",
       "    </tr>\n",
       "    <tr>\n",
       "      <th>2017-01-02 02:00:00</th>\n",
       "      <td>874.504325</td>\n",
       "      <td>-1.889298</td>\n",
       "    </tr>\n",
       "    <tr>\n",
       "      <th>2017-01-02 03:00:00</th>\n",
       "      <td>449.250815</td>\n",
       "      <td>-1.804539</td>\n",
       "    </tr>\n",
       "    <tr>\n",
       "      <th>2017-01-02 04:00:00</th>\n",
       "      <td>874.859992</td>\n",
       "      <td>-1.671390</td>\n",
       "    </tr>\n",
       "    <tr>\n",
       "      <th>...</th>\n",
       "      <td>...</td>\n",
       "      <td>...</td>\n",
       "    </tr>\n",
       "    <tr>\n",
       "      <th>2017-01-02 19:00:00</th>\n",
       "      <td>774.643935</td>\n",
       "      <td>1.390767</td>\n",
       "    </tr>\n",
       "    <tr>\n",
       "      <th>2017-01-02 20:00:00</th>\n",
       "      <td>916.718162</td>\n",
       "      <td>1.346831</td>\n",
       "    </tr>\n",
       "    <tr>\n",
       "      <th>2017-01-02 21:00:00</th>\n",
       "      <td>1005.864328</td>\n",
       "      <td>1.308699</td>\n",
       "    </tr>\n",
       "    <tr>\n",
       "      <th>2017-01-02 22:00:00</th>\n",
       "      <td>1034.373806</td>\n",
       "      <td>1.233799</td>\n",
       "    </tr>\n",
       "    <tr>\n",
       "      <th>2017-01-02 23:00:00</th>\n",
       "      <td>809.709398</td>\n",
       "      <td>1.012060</td>\n",
       "    </tr>\n",
       "  </tbody>\n",
       "</table>\n",
       "<p>24 rows × 2 columns</p>\n",
       "</div>"
      ],
      "text/plain": [
       "                              P1  temperature\n",
       "2017-01-02 00:00:00  1390.907851    -1.556795\n",
       "2017-01-02 01:00:00   485.289026    -1.972844\n",
       "2017-01-02 02:00:00   874.504325    -1.889298\n",
       "2017-01-02 03:00:00   449.250815    -1.804539\n",
       "2017-01-02 04:00:00   874.859992    -1.671390\n",
       "...                          ...          ...\n",
       "2017-01-02 19:00:00   774.643935     1.390767\n",
       "2017-01-02 20:00:00   916.718162     1.346831\n",
       "2017-01-02 21:00:00  1005.864328     1.308699\n",
       "2017-01-02 22:00:00  1034.373806     1.233799\n",
       "2017-01-02 23:00:00   809.709398     1.012060\n",
       "\n",
       "[24 rows x 2 columns]"
      ]
     },
     "execution_count": 24,
     "metadata": {},
     "output_type": "execute_result"
    }
   ],
   "source": [
    "pd.set_option('display.max_rows', 10)\n",
    "appended_mean_P1_humi"
   ]
  },
  {
   "cell_type": "code",
   "execution_count": 25,
   "metadata": {
    "scrolled": true
   },
   "outputs": [
    {
     "data": {
      "image/png": "[encoded data removed]",
      "text/plain": [
       "<Figure size 1368x864 with 1 Axes>"
      ]
     },
     "metadata": {
      "needs_background": "light"
     },
     "output_type": "display_data"
    }
   ],
   "source": [
    "plt.rcParams[\"figure.figsize\"] = (19, 12)\n",
    "x = appended_mean_P1_humi.temperature\n",
    "y = appended_mean_P1_humi.P1\n",
    "\n",
    "# Calculate the point density \n",
    "xy = np.vstack([x,y])\n",
    "z = gaussian_kde(xy)(xy)\n",
    "\n",
    "fig, ax = plt.subplots()\n",
    "ax.scatter(x, y, c=z, s=30, edgecolor='',marker = \"x\", cmap=plt.cm.jet)\n",
    "\n",
    "# Sort the points by density, so that the densest points are plotted last\n",
    "idx = z.argsort()\n",
    "x, y, z = x[idx], y[idx], z[idx]\n",
    "\n",
    "plt.xlabel('temperature', fontsize=20)\n",
    "plt.ylabel('P1', fontsize=20)\n",
    "plt.show()"
   ]
  },
  {
   "cell_type": "markdown",
   "metadata": {},
   "source": [
    "# Z-score (Standard Deviation)"
   ]
  },
  {
   "cell_type": "code",
   "execution_count": 26,
   "metadata": {},
   "outputs": [
    {
     "data": {
      "text/html": [
       "<div>\n",
       "<style scoped>\n",
       "    .dataframe tbody tr th:only-of-type {\n",
       "        vertical-align: middle;\n",
       "    }\n",
       "\n",
       "    .dataframe tbody tr th {\n",
       "        vertical-align: top;\n",
       "    }\n",
       "\n",
       "    .dataframe thead th {\n",
       "        text-align: right;\n",
       "    }\n",
       "</style>\n",
       "<table border=\"1\" class=\"dataframe\">\n",
       "  <thead>\n",
       "    <tr style=\"text-align: right;\">\n",
       "      <th></th>\n",
       "      <th>P1</th>\n",
       "      <th>temperature</th>\n",
       "    </tr>\n",
       "  </thead>\n",
       "  <tbody>\n",
       "    <tr>\n",
       "      <th>2017-01-02 00:00:00</th>\n",
       "      <td>1390.907851</td>\n",
       "      <td>-1.556795</td>\n",
       "    </tr>\n",
       "    <tr>\n",
       "      <th>2017-01-02 01:00:00</th>\n",
       "      <td>485.289026</td>\n",
       "      <td>-1.972844</td>\n",
       "    </tr>\n",
       "    <tr>\n",
       "      <th>2017-01-02 02:00:00</th>\n",
       "      <td>874.504325</td>\n",
       "      <td>-1.889298</td>\n",
       "    </tr>\n",
       "    <tr>\n",
       "      <th>2017-01-02 03:00:00</th>\n",
       "      <td>449.250815</td>\n",
       "      <td>-1.804539</td>\n",
       "    </tr>\n",
       "    <tr>\n",
       "      <th>2017-01-02 04:00:00</th>\n",
       "      <td>874.859992</td>\n",
       "      <td>-1.671390</td>\n",
       "    </tr>\n",
       "    <tr>\n",
       "      <th>...</th>\n",
       "      <td>...</td>\n",
       "      <td>...</td>\n",
       "    </tr>\n",
       "    <tr>\n",
       "      <th>2017-01-02 19:00:00</th>\n",
       "      <td>774.643935</td>\n",
       "      <td>1.390767</td>\n",
       "    </tr>\n",
       "    <tr>\n",
       "      <th>2017-01-02 20:00:00</th>\n",
       "      <td>916.718162</td>\n",
       "      <td>1.346831</td>\n",
       "    </tr>\n",
       "    <tr>\n",
       "      <th>2017-01-02 21:00:00</th>\n",
       "      <td>1005.864328</td>\n",
       "      <td>1.308699</td>\n",
       "    </tr>\n",
       "    <tr>\n",
       "      <th>2017-01-02 22:00:00</th>\n",
       "      <td>1034.373806</td>\n",
       "      <td>1.233799</td>\n",
       "    </tr>\n",
       "    <tr>\n",
       "      <th>2017-01-02 23:00:00</th>\n",
       "      <td>809.709398</td>\n",
       "      <td>1.012060</td>\n",
       "    </tr>\n",
       "  </tbody>\n",
       "</table>\n",
       "<p>23 rows × 2 columns</p>\n",
       "</div>"
      ],
      "text/plain": [
       "                              P1  temperature\n",
       "2017-01-02 00:00:00  1390.907851    -1.556795\n",
       "2017-01-02 01:00:00   485.289026    -1.972844\n",
       "2017-01-02 02:00:00   874.504325    -1.889298\n",
       "2017-01-02 03:00:00   449.250815    -1.804539\n",
       "2017-01-02 04:00:00   874.859992    -1.671390\n",
       "...                          ...          ...\n",
       "2017-01-02 19:00:00   774.643935     1.390767\n",
       "2017-01-02 20:00:00   916.718162     1.346831\n",
       "2017-01-02 21:00:00  1005.864328     1.308699\n",
       "2017-01-02 22:00:00  1034.373806     1.233799\n",
       "2017-01-02 23:00:00   809.709398     1.012060\n",
       "\n",
       "[23 rows x 2 columns]"
      ]
     },
     "execution_count": 26,
     "metadata": {},
     "output_type": "execute_result"
    }
   ],
   "source": [
    "P1_humi_drop_outliers = appended_mean_P1_humi[(np.abs(stats.zscore(appended_mean_P1_humi)) < 3).all(axis=1)]\n",
    "P1_humi_drop_outliers"
   ]
  },
  {
   "cell_type": "code",
   "execution_count": 27,
   "metadata": {},
   "outputs": [
    {
     "name": "stdout",
     "output_type": "stream",
     "text": [
      "[[0.93147502 1.28612096]\n",
      " [0.39573087 1.58097238]\n",
      " [0.17467339 1.52176392]\n",
      " [0.44854572 1.46169589]\n",
      " [0.17519463 1.36733388]\n",
      " [0.55884773 1.25497178]\n",
      " [0.2319609  1.2239001 ]\n",
      " [0.22684308 0.97283846]\n",
      " [0.20174344 0.49322954]\n",
      " [0.56319009 0.07366012]\n",
      " [0.58191768 0.4562536 ]\n",
      " [0.48936859 0.72224264]\n",
      " [0.6046711  1.10200091]\n",
      " [0.85287499 1.16459475]\n",
      " [4.28692958 0.98437113]\n",
      " [0.76249476 0.81484822]\n",
      " [0.59169318 0.77231424]\n",
      " [0.37376077 0.73453503]\n",
      " [0.67276821 0.79293097]\n",
      " [0.02832562 0.80280105]\n",
      " [0.23653878 0.77166334]\n",
      " [0.3671846  0.7446394 ]\n",
      " [0.40896591 0.69155854]\n",
      " [0.07971489 0.53441295]]\n"
     ]
    }
   ],
   "source": [
    "z = np.abs(stats.zscore(appended_mean_P1_humi))\n",
    "print(z)"
   ]
  },
  {
   "cell_type": "code",
   "execution_count": 28,
   "metadata": {},
   "outputs": [
    {
     "data": {
      "text/plain": [
       "(24, 2)"
      ]
     },
     "execution_count": 28,
     "metadata": {},
     "output_type": "execute_result"
    }
   ],
   "source": [
    "z.shape"
   ]
  },
  {
   "cell_type": "code",
   "execution_count": 29,
   "metadata": {},
   "outputs": [
    {
     "name": "stdout",
     "output_type": "stream",
     "text": [
      "(array([14]), array([0]))\n"
     ]
    }
   ],
   "source": [
    "threshold = 3\n",
    "print(np.where(z > 3))"
   ]
  },
  {
   "cell_type": "code",
   "execution_count": 30,
   "metadata": {},
   "outputs": [
    {
     "name": "stdout",
     "output_type": "stream",
     "text": [
      "0.39573086630737314\n"
     ]
    }
   ],
   "source": [
    "print(z[1][0])"
   ]
  },
  {
   "cell_type": "code",
   "execution_count": 31,
   "metadata": {
    "scrolled": true
   },
   "outputs": [
    {
     "data": {
      "image/png": "[encoded data removed]",
      "text/plain": [
       "<Figure size 1368x864 with 1 Axes>"
      ]
     },
     "metadata": {
      "needs_background": "light"
     },
     "output_type": "display_data"
    }
   ],
   "source": [
    "#plotting with z-score\n",
    "plt.rcParams[\"figure.figsize\"] = (19, 12)\n",
    "x = P1_humi_drop_outliers.temperature\n",
    "y = P1_humi_drop_outliers.P1\n",
    "\n",
    "# Calculate the point density\n",
    "xy = np.vstack([x,y])\n",
    "z = gaussian_kde(xy)(xy)\n",
    "\n",
    "# Sort the points by density, so that the densest points are plotted last\n",
    "idx = z.argsort()\n",
    "x, y, z = x[idx], y[idx], z[idx]\n",
    "\n",
    "fig, ax = plt.subplots()\n",
    "ax.scatter(x, y, c=z, s=30, edgecolor='',marker = \"x\", cmap=plt.cm.jet)\n",
    "plt.xlabel('temperature', fontsize=20)\n",
    "plt.ylabel('P1', fontsize=20)\n",
    "plt.show()"
   ]
  },
  {
   "cell_type": "markdown",
   "metadata": {},
   "source": [
    "# IQR score, IQR = Q3 − Q1"
   ]
  },
  {
   "cell_type": "code",
   "execution_count": 32,
   "metadata": {},
   "outputs": [
    {
     "name": "stdout",
     "output_type": "stream",
     "text": [
      "P1             530.301745\n",
      "temperature      2.834981\n",
      "dtype: float64\n"
     ]
    }
   ],
   "source": [
    "Q1 = appended_mean_P1_humi.quantile(0.25)\n",
    "Q3 = appended_mean_P1_humi.quantile(0.75)\n",
    "IQR = Q3 - Q1\n",
    "print(IQR)"
   ]
  },
  {
   "cell_type": "code",
   "execution_count": 33,
   "metadata": {},
   "outputs": [
    {
     "data": {
      "text/html": [
       "<div>\n",
       "<style scoped>\n",
       "    .dataframe tbody tr th:only-of-type {\n",
       "        vertical-align: middle;\n",
       "    }\n",
       "\n",
       "    .dataframe tbody tr th {\n",
       "        vertical-align: top;\n",
       "    }\n",
       "\n",
       "    .dataframe thead th {\n",
       "        text-align: right;\n",
       "    }\n",
       "</style>\n",
       "<table border=\"1\" class=\"dataframe\">\n",
       "  <thead>\n",
       "    <tr style=\"text-align: right;\">\n",
       "      <th></th>\n",
       "      <th>P1</th>\n",
       "      <th>temperature</th>\n",
       "    </tr>\n",
       "  </thead>\n",
       "  <tbody>\n",
       "    <tr>\n",
       "      <th>2017-01-02 00:00:00</th>\n",
       "      <td>False</td>\n",
       "      <td>False</td>\n",
       "    </tr>\n",
       "    <tr>\n",
       "      <th>2017-01-02 01:00:00</th>\n",
       "      <td>False</td>\n",
       "      <td>False</td>\n",
       "    </tr>\n",
       "    <tr>\n",
       "      <th>2017-01-02 02:00:00</th>\n",
       "      <td>False</td>\n",
       "      <td>False</td>\n",
       "    </tr>\n",
       "    <tr>\n",
       "      <th>2017-01-02 03:00:00</th>\n",
       "      <td>False</td>\n",
       "      <td>False</td>\n",
       "    </tr>\n",
       "    <tr>\n",
       "      <th>2017-01-02 04:00:00</th>\n",
       "      <td>False</td>\n",
       "      <td>False</td>\n",
       "    </tr>\n",
       "    <tr>\n",
       "      <th>...</th>\n",
       "      <td>...</td>\n",
       "      <td>...</td>\n",
       "    </tr>\n",
       "    <tr>\n",
       "      <th>2017-01-02 19:00:00</th>\n",
       "      <td>False</td>\n",
       "      <td>False</td>\n",
       "    </tr>\n",
       "    <tr>\n",
       "      <th>2017-01-02 20:00:00</th>\n",
       "      <td>False</td>\n",
       "      <td>False</td>\n",
       "    </tr>\n",
       "    <tr>\n",
       "      <th>2017-01-02 21:00:00</th>\n",
       "      <td>False</td>\n",
       "      <td>False</td>\n",
       "    </tr>\n",
       "    <tr>\n",
       "      <th>2017-01-02 22:00:00</th>\n",
       "      <td>False</td>\n",
       "      <td>False</td>\n",
       "    </tr>\n",
       "    <tr>\n",
       "      <th>2017-01-02 23:00:00</th>\n",
       "      <td>False</td>\n",
       "      <td>False</td>\n",
       "    </tr>\n",
       "  </tbody>\n",
       "</table>\n",
       "<p>24 rows × 2 columns</p>\n",
       "</div>"
      ],
      "text/plain": [
       "                        P1  temperature\n",
       "2017-01-02 00:00:00  False        False\n",
       "2017-01-02 01:00:00  False        False\n",
       "2017-01-02 02:00:00  False        False\n",
       "2017-01-02 03:00:00  False        False\n",
       "2017-01-02 04:00:00  False        False\n",
       "...                    ...          ...\n",
       "2017-01-02 19:00:00  False        False\n",
       "2017-01-02 20:00:00  False        False\n",
       "2017-01-02 21:00:00  False        False\n",
       "2017-01-02 22:00:00  False        False\n",
       "2017-01-02 23:00:00  False        False\n",
       "\n",
       "[24 rows x 2 columns]"
      ]
     },
     "execution_count": 33,
     "metadata": {},
     "output_type": "execute_result"
    }
   ],
   "source": [
    "df = (appended_mean_P1_humi < (Q1 - 1.5 * IQR)) |(appended_mean_P1_humi > (Q3 + 1.5 * IQR))\n",
    "df"
   ]
  },
  {
   "cell_type": "code",
   "execution_count": 34,
   "metadata": {},
   "outputs": [
    {
     "data": {
      "text/html": [
       "<div>\n",
       "<style scoped>\n",
       "    .dataframe tbody tr th:only-of-type {\n",
       "        vertical-align: middle;\n",
       "    }\n",
       "\n",
       "    .dataframe tbody tr th {\n",
       "        vertical-align: top;\n",
       "    }\n",
       "\n",
       "    .dataframe thead th {\n",
       "        text-align: right;\n",
       "    }\n",
       "</style>\n",
       "<table border=\"1\" class=\"dataframe\">\n",
       "  <thead>\n",
       "    <tr style=\"text-align: right;\">\n",
       "      <th></th>\n",
       "      <th>P1</th>\n",
       "      <th>temperature</th>\n",
       "    </tr>\n",
       "  </thead>\n",
       "  <tbody>\n",
       "    <tr>\n",
       "      <th>2017-01-02 00:00:00</th>\n",
       "      <td>False</td>\n",
       "      <td>False</td>\n",
       "    </tr>\n",
       "    <tr>\n",
       "      <th>2017-01-02 01:00:00</th>\n",
       "      <td>False</td>\n",
       "      <td>False</td>\n",
       "    </tr>\n",
       "    <tr>\n",
       "      <th>2017-01-02 02:00:00</th>\n",
       "      <td>False</td>\n",
       "      <td>False</td>\n",
       "    </tr>\n",
       "    <tr>\n",
       "      <th>2017-01-02 03:00:00</th>\n",
       "      <td>False</td>\n",
       "      <td>False</td>\n",
       "    </tr>\n",
       "    <tr>\n",
       "      <th>2017-01-02 04:00:00</th>\n",
       "      <td>False</td>\n",
       "      <td>False</td>\n",
       "    </tr>\n",
       "    <tr>\n",
       "      <th>...</th>\n",
       "      <td>...</td>\n",
       "      <td>...</td>\n",
       "    </tr>\n",
       "    <tr>\n",
       "      <th>2017-01-02 19:00:00</th>\n",
       "      <td>False</td>\n",
       "      <td>False</td>\n",
       "    </tr>\n",
       "    <tr>\n",
       "      <th>2017-01-02 20:00:00</th>\n",
       "      <td>False</td>\n",
       "      <td>False</td>\n",
       "    </tr>\n",
       "    <tr>\n",
       "      <th>2017-01-02 21:00:00</th>\n",
       "      <td>False</td>\n",
       "      <td>False</td>\n",
       "    </tr>\n",
       "    <tr>\n",
       "      <th>2017-01-02 22:00:00</th>\n",
       "      <td>False</td>\n",
       "      <td>False</td>\n",
       "    </tr>\n",
       "    <tr>\n",
       "      <th>2017-01-02 23:00:00</th>\n",
       "      <td>False</td>\n",
       "      <td>False</td>\n",
       "    </tr>\n",
       "  </tbody>\n",
       "</table>\n",
       "<p>23 rows × 2 columns</p>\n",
       "</div>"
      ],
      "text/plain": [
       "                        P1  temperature\n",
       "2017-01-02 00:00:00  False        False\n",
       "2017-01-02 01:00:00  False        False\n",
       "2017-01-02 02:00:00  False        False\n",
       "2017-01-02 03:00:00  False        False\n",
       "2017-01-02 04:00:00  False        False\n",
       "...                    ...          ...\n",
       "2017-01-02 19:00:00  False        False\n",
       "2017-01-02 20:00:00  False        False\n",
       "2017-01-02 21:00:00  False        False\n",
       "2017-01-02 22:00:00  False        False\n",
       "2017-01-02 23:00:00  False        False\n",
       "\n",
       "[23 rows x 2 columns]"
      ]
     },
     "execution_count": 34,
     "metadata": {},
     "output_type": "execute_result"
    }
   ],
   "source": [
    "P1_humidity_rm_out = df[-df.P1]\n",
    "P1_humidity_rm_out = P1_humidity_rm_out[-P1_humidity_rm_out.temperature]\n",
    "P1_humidity_rm_out"
   ]
  },
  {
   "cell_type": "code",
   "execution_count": 35,
   "metadata": {},
   "outputs": [
    {
     "data": {
      "text/html": [
       "<div>\n",
       "<style scoped>\n",
       "    .dataframe tbody tr th:only-of-type {\n",
       "        vertical-align: middle;\n",
       "    }\n",
       "\n",
       "    .dataframe tbody tr th {\n",
       "        vertical-align: top;\n",
       "    }\n",
       "\n",
       "    .dataframe thead th {\n",
       "        text-align: right;\n",
       "    }\n",
       "</style>\n",
       "<table border=\"1\" class=\"dataframe\">\n",
       "  <thead>\n",
       "    <tr style=\"text-align: right;\">\n",
       "      <th></th>\n",
       "      <th>P1</th>\n",
       "      <th>temperature</th>\n",
       "    </tr>\n",
       "  </thead>\n",
       "  <tbody>\n",
       "    <tr>\n",
       "      <th>2017-01-02 00:00:00</th>\n",
       "      <td>1390.907851</td>\n",
       "      <td>-1.556795</td>\n",
       "    </tr>\n",
       "    <tr>\n",
       "      <th>2017-01-02 01:00:00</th>\n",
       "      <td>485.289026</td>\n",
       "      <td>-1.972844</td>\n",
       "    </tr>\n",
       "    <tr>\n",
       "      <th>2017-01-02 02:00:00</th>\n",
       "      <td>874.504325</td>\n",
       "      <td>-1.889298</td>\n",
       "    </tr>\n",
       "    <tr>\n",
       "      <th>2017-01-02 03:00:00</th>\n",
       "      <td>449.250815</td>\n",
       "      <td>-1.804539</td>\n",
       "    </tr>\n",
       "    <tr>\n",
       "      <th>2017-01-02 04:00:00</th>\n",
       "      <td>874.859992</td>\n",
       "      <td>-1.671390</td>\n",
       "    </tr>\n",
       "    <tr>\n",
       "      <th>...</th>\n",
       "      <td>...</td>\n",
       "      <td>...</td>\n",
       "    </tr>\n",
       "    <tr>\n",
       "      <th>2017-01-02 19:00:00</th>\n",
       "      <td>774.643935</td>\n",
       "      <td>1.390767</td>\n",
       "    </tr>\n",
       "    <tr>\n",
       "      <th>2017-01-02 20:00:00</th>\n",
       "      <td>916.718162</td>\n",
       "      <td>1.346831</td>\n",
       "    </tr>\n",
       "    <tr>\n",
       "      <th>2017-01-02 21:00:00</th>\n",
       "      <td>1005.864328</td>\n",
       "      <td>1.308699</td>\n",
       "    </tr>\n",
       "    <tr>\n",
       "      <th>2017-01-02 22:00:00</th>\n",
       "      <td>1034.373806</td>\n",
       "      <td>1.233799</td>\n",
       "    </tr>\n",
       "    <tr>\n",
       "      <th>2017-01-02 23:00:00</th>\n",
       "      <td>809.709398</td>\n",
       "      <td>1.012060</td>\n",
       "    </tr>\n",
       "  </tbody>\n",
       "</table>\n",
       "<p>23 rows × 2 columns</p>\n",
       "</div>"
      ],
      "text/plain": [
       "                              P1  temperature\n",
       "2017-01-02 00:00:00  1390.907851    -1.556795\n",
       "2017-01-02 01:00:00   485.289026    -1.972844\n",
       "2017-01-02 02:00:00   874.504325    -1.889298\n",
       "2017-01-02 03:00:00   449.250815    -1.804539\n",
       "2017-01-02 04:00:00   874.859992    -1.671390\n",
       "...                          ...          ...\n",
       "2017-01-02 19:00:00   774.643935     1.390767\n",
       "2017-01-02 20:00:00   916.718162     1.346831\n",
       "2017-01-02 21:00:00  1005.864328     1.308699\n",
       "2017-01-02 22:00:00  1034.373806     1.233799\n",
       "2017-01-02 23:00:00   809.709398     1.012060\n",
       "\n",
       "[23 rows x 2 columns]"
      ]
     },
     "execution_count": 35,
     "metadata": {},
     "output_type": "execute_result"
    }
   ],
   "source": [
    "appended_mean_P1_humi_valid = appended_mean_P1_humi[~((appended_mean_P1_humi < (Q1 - 1.5 * IQR)) |(appended_mean_P1_humi > (Q3 + 1.5 * IQR))).any(axis=1)]\n",
    "appended_mean_P1_humi_valid"
   ]
  },
  {
   "cell_type": "code",
   "execution_count": 36,
   "metadata": {},
   "outputs": [
    {
     "data": {
      "image/png": "[encoded data removed]",
      "text/plain": [
       "<Figure size 1368x864 with 1 Axes>"
      ]
     },
     "metadata": {
      "needs_background": "light"
     },
     "output_type": "display_data"
    }
   ],
   "source": [
    "# plotting with IQR-score\n",
    "plt.rcParams[\"figure.figsize\"] = (19, 12)\n",
    "x = appended_mean_P1_humi_valid.temperature\n",
    "y = appended_mean_P1_humi_valid.P1\n",
    "\n",
    "# Calculate the point density\n",
    "xy = np.vstack([x,y])\n",
    "z = gaussian_kde(xy)(xy)\n",
    "\n",
    "fig, ax = plt.subplots()\n",
    "ax.scatter(x, y, c=z, s=30, edgecolor='',marker = \"x\", cmap=plt.cm.jet)\n",
    "\n",
    "# Sort the points by density, so that the densest points are plotted last\n",
    "idx = z.argsort()\n",
    "x, y, z = x[idx], y[idx], z[idx]\n",
    "\n",
    "plt.xlabel('temperature', fontsize=20)\n",
    "plt.ylabel('P1', fontsize=20)\n",
    "plt.show()"
   ]
  },
  {
   "cell_type": "markdown",
   "metadata": {},
   "source": [
    "# Isolation forest"
   ]
  },
  {
   "cell_type": "code",
   "execution_count": 37,
   "metadata": {},
   "outputs": [],
   "source": [
    "from sklearn.ensemble import IsolationForest"
   ]
  },
  {
   "cell_type": "code",
   "execution_count": 38,
   "metadata": {},
   "outputs": [
    {
     "name": "stderr",
     "output_type": "stream",
     "text": [
      "/opt/conda/lib/python3.7/site-packages/sklearn/ensemble/iforest.py:247: FutureWarning:\n",
      "\n",
      "behaviour=\"old\" is deprecated and will be removed in version 0.22. Please use behaviour=\"new\", which makes the decision_function change to match other anomaly detection algorithm API.\n",
      "\n"
     ]
    }
   ],
   "source": [
    "iso_forest = IsolationForest(n_estimators=300, contamination=0.10)\n",
    "iso_forest = iso_forest.fit(appended_mean_P1_humi)"
   ]
  },
  {
   "cell_type": "code",
   "execution_count": 39,
   "metadata": {},
   "outputs": [
    {
     "name": "stderr",
     "output_type": "stream",
     "text": [
      "/opt/conda/lib/python3.7/site-packages/sklearn/ensemble/iforest.py:415: DeprecationWarning:\n",
      "\n",
      "threshold_ attribute is deprecated in 0.20 and will be removed in 0.22.\n",
      "\n"
     ]
    }
   ],
   "source": [
    "isof_outliers = iso_forest.predict(appended_mean_P1_humi)"
   ]
  },
  {
   "cell_type": "code",
   "execution_count": 40,
   "metadata": {},
   "outputs": [
    {
     "name": "stderr",
     "output_type": "stream",
     "text": [
      "/opt/conda/lib/python3.7/site-packages/sklearn/ensemble/iforest.py:415: DeprecationWarning:\n",
      "\n",
      "threshold_ attribute is deprecated in 0.20 and will be removed in 0.22.\n",
      "\n"
     ]
    }
   ],
   "source": [
    "isoF_non_outliers_values = appended_mean_P1_humi[iso_forest.predict(appended_mean_P1_humi) == 1]"
   ]
  },
  {
   "cell_type": "code",
   "execution_count": 41,
   "metadata": {},
   "outputs": [
    {
     "name": "stderr",
     "output_type": "stream",
     "text": [
      "/opt/conda/lib/python3.7/site-packages/sklearn/ensemble/iforest.py:415: DeprecationWarning:\n",
      "\n",
      "threshold_ attribute is deprecated in 0.20 and will be removed in 0.22.\n",
      "\n"
     ]
    }
   ],
   "source": [
    "isoF_outliers_values = appended_mean_P1_humi[iso_forest.predict(appended_mean_P1_humi) == -1]"
   ]
  },
  {
   "cell_type": "code",
   "execution_count": 42,
   "metadata": {},
   "outputs": [
    {
     "data": {
      "text/html": [
       "<div>\n",
       "<style scoped>\n",
       "    .dataframe tbody tr th:only-of-type {\n",
       "        vertical-align: middle;\n",
       "    }\n",
       "\n",
       "    .dataframe tbody tr th {\n",
       "        vertical-align: top;\n",
       "    }\n",
       "\n",
       "    .dataframe thead th {\n",
       "        text-align: right;\n",
       "    }\n",
       "</style>\n",
       "<table border=\"1\" class=\"dataframe\">\n",
       "  <thead>\n",
       "    <tr style=\"text-align: right;\">\n",
       "      <th></th>\n",
       "      <th>P1</th>\n",
       "      <th>temperature</th>\n",
       "    </tr>\n",
       "  </thead>\n",
       "  <tbody>\n",
       "    <tr>\n",
       "      <th>2017-01-02 00:00:00</th>\n",
       "      <td>1390.907851</td>\n",
       "      <td>-1.556795</td>\n",
       "    </tr>\n",
       "    <tr>\n",
       "      <th>2017-01-02 13:00:00</th>\n",
       "      <td>173.356770</td>\n",
       "      <td>1.901274</td>\n",
       "    </tr>\n",
       "    <tr>\n",
       "      <th>2017-01-02 14:00:00</th>\n",
       "      <td>3680.501985</td>\n",
       "      <td>1.646971</td>\n",
       "    </tr>\n",
       "  </tbody>\n",
       "</table>\n",
       "</div>"
      ],
      "text/plain": [
       "                              P1  temperature\n",
       "2017-01-02 00:00:00  1390.907851    -1.556795\n",
       "2017-01-02 13:00:00   173.356770     1.901274\n",
       "2017-01-02 14:00:00  3680.501985     1.646971"
      ]
     },
     "execution_count": 42,
     "metadata": {},
     "output_type": "execute_result"
    }
   ],
   "source": [
    "isoF_outliers_values"
   ]
  },
  {
   "cell_type": "code",
   "execution_count": 43,
   "metadata": {},
   "outputs": [
    {
     "data": {
      "text/html": [
       "<div>\n",
       "<style scoped>\n",
       "    .dataframe tbody tr th:only-of-type {\n",
       "        vertical-align: middle;\n",
       "    }\n",
       "\n",
       "    .dataframe tbody tr th {\n",
       "        vertical-align: top;\n",
       "    }\n",
       "\n",
       "    .dataframe thead th {\n",
       "        text-align: right;\n",
       "    }\n",
       "</style>\n",
       "<table border=\"1\" class=\"dataframe\">\n",
       "  <thead>\n",
       "    <tr style=\"text-align: right;\">\n",
       "      <th></th>\n",
       "      <th>P1</th>\n",
       "      <th>temperature</th>\n",
       "    </tr>\n",
       "  </thead>\n",
       "  <tbody>\n",
       "    <tr>\n",
       "      <th>2017-01-02 01:00:00</th>\n",
       "      <td>485.289026</td>\n",
       "      <td>-1.972844</td>\n",
       "    </tr>\n",
       "    <tr>\n",
       "      <th>2017-01-02 02:00:00</th>\n",
       "      <td>874.504325</td>\n",
       "      <td>-1.889298</td>\n",
       "    </tr>\n",
       "    <tr>\n",
       "      <th>2017-01-02 03:00:00</th>\n",
       "      <td>449.250815</td>\n",
       "      <td>-1.804539</td>\n",
       "    </tr>\n",
       "    <tr>\n",
       "      <th>2017-01-02 04:00:00</th>\n",
       "      <td>874.859992</td>\n",
       "      <td>-1.671390</td>\n",
       "    </tr>\n",
       "    <tr>\n",
       "      <th>2017-01-02 05:00:00</th>\n",
       "      <td>373.986246</td>\n",
       "      <td>-1.512842</td>\n",
       "    </tr>\n",
       "    <tr>\n",
       "      <th>...</th>\n",
       "      <td>...</td>\n",
       "      <td>...</td>\n",
       "    </tr>\n",
       "    <tr>\n",
       "      <th>2017-01-02 19:00:00</th>\n",
       "      <td>774.643935</td>\n",
       "      <td>1.390767</td>\n",
       "    </tr>\n",
       "    <tr>\n",
       "      <th>2017-01-02 20:00:00</th>\n",
       "      <td>916.718162</td>\n",
       "      <td>1.346831</td>\n",
       "    </tr>\n",
       "    <tr>\n",
       "      <th>2017-01-02 21:00:00</th>\n",
       "      <td>1005.864328</td>\n",
       "      <td>1.308699</td>\n",
       "    </tr>\n",
       "    <tr>\n",
       "      <th>2017-01-02 22:00:00</th>\n",
       "      <td>1034.373806</td>\n",
       "      <td>1.233799</td>\n",
       "    </tr>\n",
       "    <tr>\n",
       "      <th>2017-01-02 23:00:00</th>\n",
       "      <td>809.709398</td>\n",
       "      <td>1.012060</td>\n",
       "    </tr>\n",
       "  </tbody>\n",
       "</table>\n",
       "<p>21 rows × 2 columns</p>\n",
       "</div>"
      ],
      "text/plain": [
       "                              P1  temperature\n",
       "2017-01-02 01:00:00   485.289026    -1.972844\n",
       "2017-01-02 02:00:00   874.504325    -1.889298\n",
       "2017-01-02 03:00:00   449.250815    -1.804539\n",
       "2017-01-02 04:00:00   874.859992    -1.671390\n",
       "2017-01-02 05:00:00   373.986246    -1.512842\n",
       "...                          ...          ...\n",
       "2017-01-02 19:00:00   774.643935     1.390767\n",
       "2017-01-02 20:00:00   916.718162     1.346831\n",
       "2017-01-02 21:00:00  1005.864328     1.308699\n",
       "2017-01-02 22:00:00  1034.373806     1.233799\n",
       "2017-01-02 23:00:00   809.709398     1.012060\n",
       "\n",
       "[21 rows x 2 columns]"
      ]
     },
     "execution_count": 43,
     "metadata": {},
     "output_type": "execute_result"
    }
   ],
   "source": [
    "isoF_non_outliers_values"
   ]
  },
  {
   "cell_type": "code",
   "execution_count": 44,
   "metadata": {},
   "outputs": [
    {
     "data": {
      "image/png": "[encoded data removed]",
      "text/plain": [
       "<Figure size 1368x864 with 1 Axes>"
      ]
     },
     "metadata": {
      "needs_background": "light"
     },
     "output_type": "display_data"
    }
   ],
   "source": [
    "# plotting with isolation forest\n",
    "plt.rcParams[\"figure.figsize\"] = (19, 12)\n",
    "x = isoF_non_outliers_values.temperature\n",
    "y = isoF_non_outliers_values.P1\n",
    "\n",
    "# Calculate the point density\n",
    "xy = np.vstack([x,y])\n",
    "z = gaussian_kde(xy)(xy)\n",
    "\n",
    "fig, ax = plt.subplots()\n",
    "ax.scatter(x, y, c=z, s=30, edgecolor='',marker = \"x\", cmap=plt.cm.jet)\n",
    "\n",
    "# Sort the points by density, so that the densest points are plotted last\n",
    "idx = z.argsort()\n",
    "x, y, z = x[idx], y[idx], z[idx]\n",
    "\n",
    "plt.xlabel('temperature', fontsize=20)\n",
    "plt.ylabel('P1', fontsize=20)\n",
    "plt.show()"
   ]
  },
  {
   "cell_type": "markdown",
   "metadata": {},
   "source": [
    "# Correlation"
   ]
  },
  {
   "cell_type": "code",
   "execution_count": 45,
   "metadata": {},
   "outputs": [
    {
     "data": {
      "text/plain": [
       "-0.1613205760747626"
      ]
     },
     "execution_count": 45,
     "metadata": {},
     "output_type": "execute_result"
    }
   ],
   "source": [
    "isoF_non_outliers_values['P1'].corr(isoF_non_outliers_values['temperature'])"
   ]
  },
  {
   "cell_type": "code",
   "execution_count": 47,
   "metadata": {},
   "outputs": [
    {
     "name": "stdout",
     "output_type": "stream",
     "text": [
      "                   P1  temperature\n",
      "P1           1.000000    -0.161321\n",
      "temperature -0.161321     1.000000\n"
     ]
    }
   ],
   "source": [
    "corrMatrix = isoF_non_outliers_values.corr()\n",
    "print (corrMatrix)"
   ]
  }
 ],
 "metadata": {
  "kernelspec": {
   "display_name": "Python 3 (ipykernel)",
   "language": "python",
   "name": "python3"
  },
  "language_info": {
   "codemirror_mode": {
    "name": "ipython",
    "version": 3
   },
   "file_extension": ".py",
   "mimetype": "text/x-python",
   "name": "python",
   "nbconvert_exporter": "python",
   "pygments_lexer": "ipython3",
   "version": "3.10.6"
  }
 },
 "nbformat": 4,
 "nbformat_minor": 4
}
