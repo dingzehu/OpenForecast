{
 "cells": [
  {
   "cell_type": "code",
   "execution_count": 1,
   "metadata": {},
   "outputs": [],
   "source": [
    "!pip -q install pyshp\n",
    "!pip -q install influxdb\n",
    "!pip -q install shapely\n",
    "!pip -q install ipyleaflet\n",
    "!pip -q install plotly"
   ]
  },
  {
   "cell_type": "code",
   "execution_count": 2,
   "metadata": {},
   "outputs": [],
   "source": [
    "import shapefile\n",
    "import pandas as pd\n",
    "import plotly.graph_objects as go\n",
    "import matplotlib.pyplot as plt\n",
    "import time\n",
    "import numpy as np\n",
    "import tarfile\n",
    "from six.moves import urllib\n",
    "import json\n",
    "import os\n",
    "from influxdb import DataFrameClient\n",
    "from dotenv import load_dotenv\n",
    "from shapely.geometry import Point, Polygon\n",
    "from ipyleaflet import Map, GeoJSON, basemaps, Polyline, Heatmap\n",
    "import requests\n",
    "from datetime import datetime, timedelta\n",
    "from scipy.stats import gaussian_kde\n",
    "from scipy import stats\n",
    "%matplotlib inline\n",
    "\n",
    "load_dotenv()"
   ]
  },
  {
   "cell_type": "code",
   "execution_count": 3,
   "metadata": {},
   "outputs": [],
   "source": [
    "def rm_outside_polygon(res_pd_frame,polygon):\n",
    "    res_pd_frame_1 = res_pd_frame[['lon','lat','sensor_id']]\n",
    "    res_pd_frame_2 = res_pd_frame_1.reset_index()\n",
    "    res_pd_frame_3 = res_pd_frame_2.drop(columns=['index'])\n",
    "    res_pd_frame4 = res_pd_frame_3.drop_duplicates()\n",
    "    res_pd_frame4[\"polygon1\"] = res_pd_frame4.apply(lambda row: Polygon(poly).intersects(Point(row[\"lon\"], row[\"lat\"])), axis = 1)\n",
    "    res_pd_frame5 = res_pd_frame4.drop(res_pd_frame4[res_pd_frame4[\"polygon1\"]].index)\n",
    "    res_pd_frame = res_pd_frame[~res_pd_frame.sensor_id.isin(res_pd_frame5.sensor_id)]     \n",
    "    return res_pd_frame"
   ]
  },
  {
   "cell_type": "code",
   "execution_count": 4,
   "metadata": {},
   "outputs": [],
   "source": [
    "#sf = shapefile.Reader(\"landkreise-in-germany.shp\") # This is Göttingen\n",
    "#s = sf.shape(0)\n",
    "\n",
    "sf = shapefile.Reader(\"bundesland.shp\") # Complete germany, 16 shapes for each bundesland\n",
    "s = sf.shape(3) # Baden-Württemberg\n",
    "poly = Polygon(s.points)  # Convert to polygon to use shapely function point.within(polygon)\n",
    "\n",
    "geo_json = GeoJSON(data=s.__geo_interface__, style = {'color': 'red', 'opacity':1, 'weight':1.9, 'dashArray':'9', 'fillOpacity':0.1})"
   ]
  },
  {
   "cell_type": "code",
   "execution_count": 5,
   "metadata": {},
   "outputs": [],
   "source": [
    "def main(host=os.getenv(\"HOST\"), port=os.getenv(\"PORT\"), rectangle=[0,0,0,0],time_range=[\"\",\"\"],limit=100):\n",
    "    \"\"\"Instantiate the connection to the InfluxDB client.\"\"\"\n",
    "    user = os.getenv(\"USER\")\n",
    "    password = os.getenv(\"PASSWORD\")\n",
    "    dbname = os.getenv(\"DB\")\n",
    "    protocol = 'line'\n",
    "\n",
    "    client = DataFrameClient(host, port, user, password, dbname, ssl=True, verify_ssl=True)\n",
    "\n",
    "    bind_params = {\n",
    "        \"start_time_epoch\": time_range[0],\n",
    "        \"end_time_epoch\": time_range[1]\n",
    "    }\n",
    "    measurement = \"P1, humidity, lat, lon, sensor_id\"\n",
    "    \n",
    "    #measurement = \"P1, temperature, lat, lon, sensor_id\"\n",
    "    \n",
    "    query = f\"select {measurement} from sensor where \\\n",
    "                     time > $start_time_epoch AND \\\n",
    "                     time < $end_time_epoch AND \\\n",
    "                     lon > {rectangle[0]} AND \\\n",
    "                     lon < {rectangle[2]} AND \\\n",
    "                     lat > {rectangle[1]} AND \\\n",
    "                     lat < {rectangle[3]} \\\n",
    "                     limit {limit}\"\n",
    "                \n",
    "    res=client.query(query, bind_params=bind_params)\n",
    "    return res"
   ]
  },
  {
   "cell_type": "code",
   "execution_count": 6,
   "metadata": {},
   "outputs": [],
   "source": [
    "m = Map(center=(48.7,9.8,0 ), zoom=8, basemap=basemaps.Hydda.Full)\n",
    "m.add_layer(geo_json)"
   ]
  },
  {
   "cell_type": "markdown",
   "metadata": {},
   "source": [
    "## Change the 'start_date' & 'date_to_end_query' for changing the time duration of query"
   ]
  },
  {
   "cell_type": "code",
   "execution_count": 7,
   "metadata": {},
   "outputs": [
    {
     "name": "stdout",
     "output_type": "stream",
     "text": [
      "['2017-01-02T00:00:00Z', '2017-01-02T01:00:00Z']\n"
     ]
    },
    {
     "name": "stderr",
     "output_type": "stream",
     "text": [
      "/opt/conda/lib/python3.7/site-packages/ipykernel_launcher.py:6: SettingWithCopyWarning:\n",
      "\n",
      "\n",
      "A value is trying to be set on a copy of a slice from a DataFrame.\n",
      "Try using .loc[row_indexer,col_indexer] = value instead\n",
      "\n",
      "See the caveats in the documentation: http://pandas.pydata.org/pandas-docs/stable/user_guide/indexing.html#returning-a-view-versus-a-copy\n",
      "\n"
     ]
    },
    {
     "name": "stdout",
     "output_type": "stream",
     "text": [
      "--- 1.5252299308776855 seconds ---\n",
      "['2017-01-02T01:00:00Z', '2017-01-02T02:00:00Z']\n",
      "--- 1.3397889137268066 seconds ---\n",
      "['2017-01-02T02:00:00Z', '2017-01-02T03:00:00Z']\n",
      "--- 1.4357352256774902 seconds ---\n",
      "['2017-01-02T03:00:00Z', '2017-01-02T04:00:00Z']\n",
      "--- 1.4288403987884521 seconds ---\n",
      "['2017-01-02T04:00:00Z', '2017-01-02T05:00:00Z']\n",
      "--- 1.3700966835021973 seconds ---\n",
      "['2017-01-02T05:00:00Z', '2017-01-02T06:00:00Z']\n",
      "--- 1.5342066287994385 seconds ---\n",
      "['2017-01-02T06:00:00Z', '2017-01-02T07:00:00Z']\n",
      "--- 1.4180326461791992 seconds ---\n",
      "['2017-01-02T07:00:00Z', '2017-01-02T08:00:00Z']\n",
      "--- 1.5106697082519531 seconds ---\n",
      "['2017-01-02T08:00:00Z', '2017-01-02T09:00:00Z']\n",
      "--- 1.4545576572418213 seconds ---\n",
      "['2017-01-02T09:00:00Z', '2017-01-02T10:00:00Z']\n",
      "--- 1.4626784324645996 seconds ---\n",
      "['2017-01-02T10:00:00Z', '2017-01-02T11:00:00Z']\n",
      "--- 1.4139692783355713 seconds ---\n",
      "['2017-01-02T11:00:00Z', '2017-01-02T12:00:00Z']\n",
      "--- 1.5757997035980225 seconds ---\n",
      "['2017-01-02T12:00:00Z', '2017-01-02T13:00:00Z']\n",
      "--- 1.481872797012329 seconds ---\n",
      "['2017-01-02T13:00:00Z', '2017-01-02T14:00:00Z']\n",
      "--- 1.7872211933135986 seconds ---\n",
      "['2017-01-02T14:00:00Z', '2017-01-02T15:00:00Z']\n",
      "--- 1.3651211261749268 seconds ---\n",
      "['2017-01-02T15:00:00Z', '2017-01-02T16:00:00Z']\n",
      "--- 1.503519058227539 seconds ---\n",
      "['2017-01-02T16:00:00Z', '2017-01-02T17:00:00Z']\n",
      "--- 1.4306645393371582 seconds ---\n",
      "['2017-01-02T17:00:00Z', '2017-01-02T18:00:00Z']\n",
      "--- 1.4000086784362793 seconds ---\n",
      "['2017-01-02T18:00:00Z', '2017-01-02T19:00:00Z']\n",
      "--- 1.5691664218902588 seconds ---\n",
      "['2017-01-02T19:00:00Z', '2017-01-02T20:00:00Z']\n",
      "--- 1.4863841533660889 seconds ---\n",
      "['2017-01-02T20:00:00Z', '2017-01-02T21:00:00Z']\n",
      "--- 1.406548261642456 seconds ---\n",
      "['2017-01-02T21:00:00Z', '2017-01-02T22:00:00Z']\n",
      "--- 1.474780559539795 seconds ---\n",
      "['2017-01-02T22:00:00Z', '2017-01-02T23:00:00Z']\n",
      "--- 1.4373173713684082 seconds ---\n",
      "['2017-01-02T23:00:00Z', '2017-01-03T00:00:00Z']\n",
      "--- 1.3581416606903076 seconds ---\n"
     ]
    },
    {
     "data": {
      "text/html": [
       "<div>\n",
       "<style scoped>\n",
       "    .dataframe tbody tr th:only-of-type {\n",
       "        vertical-align: middle;\n",
       "    }\n",
       "\n",
       "    .dataframe tbody tr th {\n",
       "        vertical-align: top;\n",
       "    }\n",
       "\n",
       "    .dataframe thead th {\n",
       "        text-align: right;\n",
       "    }\n",
       "</style>\n",
       "<table border=\"1\" class=\"dataframe\">\n",
       "  <thead>\n",
       "    <tr style=\"text-align: right;\">\n",
       "      <th></th>\n",
       "      <th>P1</th>\n",
       "      <th>humidity</th>\n",
       "    </tr>\n",
       "  </thead>\n",
       "  <tbody>\n",
       "    <tr>\n",
       "      <th>2017-01-02 00:00:00</th>\n",
       "      <td>1390.907851</td>\n",
       "      <td>78.537593</td>\n",
       "    </tr>\n",
       "    <tr>\n",
       "      <th>2017-01-02 01:00:00</th>\n",
       "      <td>485.289026</td>\n",
       "      <td>79.841981</td>\n",
       "    </tr>\n",
       "    <tr>\n",
       "      <th>2017-01-02 02:00:00</th>\n",
       "      <td>874.504325</td>\n",
       "      <td>79.827335</td>\n",
       "    </tr>\n",
       "    <tr>\n",
       "      <th>2017-01-02 03:00:00</th>\n",
       "      <td>449.250815</td>\n",
       "      <td>80.016781</td>\n",
       "    </tr>\n",
       "    <tr>\n",
       "      <th>2017-01-02 04:00:00</th>\n",
       "      <td>874.859992</td>\n",
       "      <td>79.923909</td>\n",
       "    </tr>\n",
       "    <tr>\n",
       "      <th>2017-01-02 05:00:00</th>\n",
       "      <td>373.986246</td>\n",
       "      <td>78.868970</td>\n",
       "    </tr>\n",
       "    <tr>\n",
       "      <th>2017-01-02 06:00:00</th>\n",
       "      <td>913.594447</td>\n",
       "      <td>79.076316</td>\n",
       "    </tr>\n",
       "    <tr>\n",
       "      <th>2017-01-02 07:00:00</th>\n",
       "      <td>600.529593</td>\n",
       "      <td>77.913088</td>\n",
       "    </tr>\n",
       "    <tr>\n",
       "      <th>2017-01-02 08:00:00</th>\n",
       "      <td>892.975568</td>\n",
       "      <td>76.660367</td>\n",
       "    </tr>\n",
       "    <tr>\n",
       "      <th>2017-01-02 09:00:00</th>\n",
       "      <td>371.023235</td>\n",
       "      <td>75.722951</td>\n",
       "    </tr>\n",
       "    <tr>\n",
       "      <th>2017-01-02 10:00:00</th>\n",
       "      <td>358.244466</td>\n",
       "      <td>75.893414</td>\n",
       "    </tr>\n",
       "    <tr>\n",
       "      <th>2017-01-02 11:00:00</th>\n",
       "      <td>421.395335</td>\n",
       "      <td>76.976700</td>\n",
       "    </tr>\n",
       "    <tr>\n",
       "      <th>2017-01-02 12:00:00</th>\n",
       "      <td>342.718678</td>\n",
       "      <td>77.957737</td>\n",
       "    </tr>\n",
       "    <tr>\n",
       "      <th>2017-01-02 13:00:00</th>\n",
       "      <td>173.356770</td>\n",
       "      <td>79.801677</td>\n",
       "    </tr>\n",
       "    <tr>\n",
       "      <th>2017-01-02 14:00:00</th>\n",
       "      <td>3680.501985</td>\n",
       "      <td>80.227229</td>\n",
       "    </tr>\n",
       "    <tr>\n",
       "      <th>2017-01-02 15:00:00</th>\n",
       "      <td>235.027713</td>\n",
       "      <td>81.468866</td>\n",
       "    </tr>\n",
       "    <tr>\n",
       "      <th>2017-01-02 16:00:00</th>\n",
       "      <td>351.574160</td>\n",
       "      <td>80.971896</td>\n",
       "    </tr>\n",
       "    <tr>\n",
       "      <th>2017-01-02 17:00:00</th>\n",
       "      <td>500.280317</td>\n",
       "      <td>80.692937</td>\n",
       "    </tr>\n",
       "    <tr>\n",
       "      <th>2017-01-02 18:00:00</th>\n",
       "      <td>296.252618</td>\n",
       "      <td>80.455647</td>\n",
       "    </tr>\n",
       "    <tr>\n",
       "      <th>2017-01-02 19:00:00</th>\n",
       "      <td>774.643935</td>\n",
       "      <td>80.585891</td>\n",
       "    </tr>\n",
       "    <tr>\n",
       "      <th>2017-01-02 20:00:00</th>\n",
       "      <td>916.718162</td>\n",
       "      <td>80.800388</td>\n",
       "    </tr>\n",
       "    <tr>\n",
       "      <th>2017-01-02 21:00:00</th>\n",
       "      <td>1005.864328</td>\n",
       "      <td>80.566069</td>\n",
       "    </tr>\n",
       "    <tr>\n",
       "      <th>2017-01-02 22:00:00</th>\n",
       "      <td>1034.373806</td>\n",
       "      <td>80.580506</td>\n",
       "    </tr>\n",
       "    <tr>\n",
       "      <th>2017-01-02 23:00:00</th>\n",
       "      <td>809.709398</td>\n",
       "      <td>80.421680</td>\n",
       "    </tr>\n",
       "  </tbody>\n",
       "</table>\n",
       "</div>"
      ],
      "text/plain": [
       "                              P1   humidity\n",
       "2017-01-02 00:00:00  1390.907851  78.537593\n",
       "2017-01-02 01:00:00   485.289026  79.841981\n",
       "2017-01-02 02:00:00   874.504325  79.827335\n",
       "2017-01-02 03:00:00   449.250815  80.016781\n",
       "2017-01-02 04:00:00   874.859992  79.923909\n",
       "2017-01-02 05:00:00   373.986246  78.868970\n",
       "2017-01-02 06:00:00   913.594447  79.076316\n",
       "2017-01-02 07:00:00   600.529593  77.913088\n",
       "2017-01-02 08:00:00   892.975568  76.660367\n",
       "2017-01-02 09:00:00   371.023235  75.722951\n",
       "2017-01-02 10:00:00   358.244466  75.893414\n",
       "2017-01-02 11:00:00   421.395335  76.976700\n",
       "2017-01-02 12:00:00   342.718678  77.957737\n",
       "2017-01-02 13:00:00   173.356770  79.801677\n",
       "2017-01-02 14:00:00  3680.501985  80.227229\n",
       "2017-01-02 15:00:00   235.027713  81.468866\n",
       "2017-01-02 16:00:00   351.574160  80.971896\n",
       "2017-01-02 17:00:00   500.280317  80.692937\n",
       "2017-01-02 18:00:00   296.252618  80.455647\n",
       "2017-01-02 19:00:00   774.643935  80.585891\n",
       "2017-01-02 20:00:00   916.718162  80.800388\n",
       "2017-01-02 21:00:00  1005.864328  80.566069\n",
       "2017-01-02 22:00:00  1034.373806  80.580506\n",
       "2017-01-02 23:00:00   809.709398  80.421680"
      ]
     },
     "execution_count": 7,
     "metadata": {},
     "output_type": "execute_result"
    }
   ],
   "source": [
    "start_date = datetime(2017, 1, 2)\n",
    "end_date = start_date + timedelta(hours=1)\n",
    "\n",
    "date_to_start_query = start_date\n",
    "date_to_end_query = datetime(2017, 1, 3)\n",
    "\n",
    "appended_res_pd_frame_plot_timeindex = []\n",
    "appended_drop_P1 = []\n",
    "appended_mean_P1_humi = []\n",
    "\n",
    "j = 0\n",
    "number = 5\n",
    "while number >= 5:\n",
    "    start_time = time.time()\n",
    "    \n",
    "    time_range=[start_date.strftime(\"%Y-%m-%dT%H:%M:%SZ\"),end_date.strftime(\"%Y-%m-%dT%H:%M:%SZ\")]\n",
    "    print(time_range)\n",
    "    \n",
    "    res_P1_humi=main(rectangle=s.bbox,time_range=time_range,limit=10000)\n",
    "    \n",
    "    if not res_P1_humi:\n",
    "        print('Data empty in %s' %time_range)\n",
    "        start_date=end_date\n",
    "        end_date=start_date + timedelta(hours=1)\n",
    "        \n",
    "    if res_P1_humi:    \n",
    "        res_pd_frame_P1_humi=rm_outside_polygon(res_P1_humi['sensor'],poly)\n",
    "    \n",
    "        res_pd_frame_P1_humi = res_pd_frame_P1_humi.drop([ 'lat', 'lon', 'sensor_id'], axis = 1)\n",
    "        res_pd_frame_mean_P1_humi = res_pd_frame_P1_humi.mean(axis = 0, skipna = True)\n",
    "        res_pd_frame_mean_P1_humi = res_pd_frame_mean_P1_humi.to_frame()\n",
    "        res_pd_frame_mean_P1_humi = res_pd_frame_mean_P1_humi.swapaxes(\"index\", \"columns\") \n",
    "        res_pd_frame_mean_P1_humi = res_pd_frame_mean_P1_humi.rename(index={0: start_date})\n",
    "        \n",
    "        appended_mean_P1_humi.append(res_pd_frame_mean_P1_humi)  \n",
    "\n",
    "\n",
    "        start_date=end_date\n",
    "        end_date=start_date + timedelta(hours=1)\n",
    "        print(\"--- %s seconds ---\" % (time.time() - start_time))\n",
    "    \n",
    "    if start_date == date_to_end_query: \n",
    "        break\n",
    "\n",
    "appended_mean_P1_humi = pd.concat(appended_mean_P1_humi)\n",
    "appended_mean_P1_humi\n"
   ]
  },
  {
   "cell_type": "code",
   "execution_count": 8,
   "metadata": {},
   "outputs": [
    {
     "data": {
      "text/html": [
       "<div>\n",
       "<style scoped>\n",
       "    .dataframe tbody tr th:only-of-type {\n",
       "        vertical-align: middle;\n",
       "    }\n",
       "\n",
       "    .dataframe tbody tr th {\n",
       "        vertical-align: top;\n",
       "    }\n",
       "\n",
       "    .dataframe thead th {\n",
       "        text-align: right;\n",
       "    }\n",
       "</style>\n",
       "<table border=\"1\" class=\"dataframe\">\n",
       "  <thead>\n",
       "    <tr style=\"text-align: right;\">\n",
       "      <th></th>\n",
       "      <th>P1</th>\n",
       "      <th>humidity</th>\n",
       "    </tr>\n",
       "  </thead>\n",
       "  <tbody>\n",
       "    <tr>\n",
       "      <th>2017-01-02 00:00:00</th>\n",
       "      <td>1390.907851</td>\n",
       "      <td>78.537593</td>\n",
       "    </tr>\n",
       "    <tr>\n",
       "      <th>2017-01-02 01:00:00</th>\n",
       "      <td>485.289026</td>\n",
       "      <td>79.841981</td>\n",
       "    </tr>\n",
       "    <tr>\n",
       "      <th>2017-01-02 02:00:00</th>\n",
       "      <td>874.504325</td>\n",
       "      <td>79.827335</td>\n",
       "    </tr>\n",
       "    <tr>\n",
       "      <th>2017-01-02 03:00:00</th>\n",
       "      <td>449.250815</td>\n",
       "      <td>80.016781</td>\n",
       "    </tr>\n",
       "    <tr>\n",
       "      <th>2017-01-02 04:00:00</th>\n",
       "      <td>874.859992</td>\n",
       "      <td>79.923909</td>\n",
       "    </tr>\n",
       "    <tr>\n",
       "      <th>...</th>\n",
       "      <td>...</td>\n",
       "      <td>...</td>\n",
       "    </tr>\n",
       "    <tr>\n",
       "      <th>2017-01-02 19:00:00</th>\n",
       "      <td>774.643935</td>\n",
       "      <td>80.585891</td>\n",
       "    </tr>\n",
       "    <tr>\n",
       "      <th>2017-01-02 20:00:00</th>\n",
       "      <td>916.718162</td>\n",
       "      <td>80.800388</td>\n",
       "    </tr>\n",
       "    <tr>\n",
       "      <th>2017-01-02 21:00:00</th>\n",
       "      <td>1005.864328</td>\n",
       "      <td>80.566069</td>\n",
       "    </tr>\n",
       "    <tr>\n",
       "      <th>2017-01-02 22:00:00</th>\n",
       "      <td>1034.373806</td>\n",
       "      <td>80.580506</td>\n",
       "    </tr>\n",
       "    <tr>\n",
       "      <th>2017-01-02 23:00:00</th>\n",
       "      <td>809.709398</td>\n",
       "      <td>80.421680</td>\n",
       "    </tr>\n",
       "  </tbody>\n",
       "</table>\n",
       "<p>24 rows × 2 columns</p>\n",
       "</div>"
      ],
      "text/plain": [
       "                              P1   humidity\n",
       "2017-01-02 00:00:00  1390.907851  78.537593\n",
       "2017-01-02 01:00:00   485.289026  79.841981\n",
       "2017-01-02 02:00:00   874.504325  79.827335\n",
       "2017-01-02 03:00:00   449.250815  80.016781\n",
       "2017-01-02 04:00:00   874.859992  79.923909\n",
       "...                          ...        ...\n",
       "2017-01-02 19:00:00   774.643935  80.585891\n",
       "2017-01-02 20:00:00   916.718162  80.800388\n",
       "2017-01-02 21:00:00  1005.864328  80.566069\n",
       "2017-01-02 22:00:00  1034.373806  80.580506\n",
       "2017-01-02 23:00:00   809.709398  80.421680\n",
       "\n",
       "[24 rows x 2 columns]"
      ]
     },
     "execution_count": 8,
     "metadata": {},
     "output_type": "execute_result"
    }
   ],
   "source": [
    "pd.set_option('display.max_rows', 10)\n",
    "appended_mean_P1_humi"
   ]
  },
  {
   "cell_type": "code",
   "execution_count": 9,
   "metadata": {},
   "outputs": [
    {
     "data": {
      "text/html": [
       "<div>\n",
       "<style scoped>\n",
       "    .dataframe tbody tr th:only-of-type {\n",
       "        vertical-align: middle;\n",
       "    }\n",
       "\n",
       "    .dataframe tbody tr th {\n",
       "        vertical-align: top;\n",
       "    }\n",
       "\n",
       "    .dataframe thead th {\n",
       "        text-align: right;\n",
       "    }\n",
       "</style>\n",
       "<table border=\"1\" class=\"dataframe\">\n",
       "  <thead>\n",
       "    <tr style=\"text-align: right;\">\n",
       "      <th></th>\n",
       "      <th>P1</th>\n",
       "      <th>humidity</th>\n",
       "    </tr>\n",
       "  </thead>\n",
       "  <tbody>\n",
       "    <tr>\n",
       "      <th>2017-01-02 23:01:57.178315008+00:00</th>\n",
       "      <td>5842.63</td>\n",
       "      <td>NaN</td>\n",
       "    </tr>\n",
       "    <tr>\n",
       "      <th>2017-01-02 23:03:31.819357952+00:00</th>\n",
       "      <td>1883.26</td>\n",
       "      <td>NaN</td>\n",
       "    </tr>\n",
       "    <tr>\n",
       "      <th>2017-01-02 23:04:54.643458048+00:00</th>\n",
       "      <td>2075.65</td>\n",
       "      <td>NaN</td>\n",
       "    </tr>\n",
       "    <tr>\n",
       "      <th>2017-01-02 23:05:36.264438016+00:00</th>\n",
       "      <td>2733.70</td>\n",
       "      <td>NaN</td>\n",
       "    </tr>\n",
       "    <tr>\n",
       "      <th>2017-01-02 23:07:40.218962944+00:00</th>\n",
       "      <td>2336.54</td>\n",
       "      <td>NaN</td>\n",
       "    </tr>\n",
       "    <tr>\n",
       "      <th>...</th>\n",
       "      <td>...</td>\n",
       "      <td>...</td>\n",
       "    </tr>\n",
       "    <tr>\n",
       "      <th>2017-01-02 23:53:13.900743936+00:00</th>\n",
       "      <td>2133.57</td>\n",
       "      <td>NaN</td>\n",
       "    </tr>\n",
       "    <tr>\n",
       "      <th>2017-01-02 23:55:17.999170048+00:00</th>\n",
       "      <td>2138.47</td>\n",
       "      <td>NaN</td>\n",
       "    </tr>\n",
       "    <tr>\n",
       "      <th>2017-01-02 23:55:59.510446080+00:00</th>\n",
       "      <td>1822.23</td>\n",
       "      <td>NaN</td>\n",
       "    </tr>\n",
       "    <tr>\n",
       "      <th>2017-01-02 23:58:08.938479104+00:00</th>\n",
       "      <td>2347.45</td>\n",
       "      <td>NaN</td>\n",
       "    </tr>\n",
       "    <tr>\n",
       "      <th>2017-01-02 23:58:48.355032064+00:00</th>\n",
       "      <td>1691.50</td>\n",
       "      <td>NaN</td>\n",
       "    </tr>\n",
       "  </tbody>\n",
       "</table>\n",
       "<p>45 rows × 2 columns</p>\n",
       "</div>"
      ],
      "text/plain": [
       "                                          P1  humidity\n",
       "2017-01-02 23:01:57.178315008+00:00  5842.63       NaN\n",
       "2017-01-02 23:03:31.819357952+00:00  1883.26       NaN\n",
       "2017-01-02 23:04:54.643458048+00:00  2075.65       NaN\n",
       "2017-01-02 23:05:36.264438016+00:00  2733.70       NaN\n",
       "2017-01-02 23:07:40.218962944+00:00  2336.54       NaN\n",
       "...                                      ...       ...\n",
       "2017-01-02 23:53:13.900743936+00:00  2133.57       NaN\n",
       "2017-01-02 23:55:17.999170048+00:00  2138.47       NaN\n",
       "2017-01-02 23:55:59.510446080+00:00  1822.23       NaN\n",
       "2017-01-02 23:58:08.938479104+00:00  2347.45       NaN\n",
       "2017-01-02 23:58:48.355032064+00:00  1691.50       NaN\n",
       "\n",
       "[45 rows x 2 columns]"
      ]
     },
     "execution_count": 9,
     "metadata": {},
     "output_type": "execute_result"
    }
   ],
   "source": [
    "df = res_pd_frame_P1_humi.loc[res_pd_frame_P1_humi['P1'] > 1500]\n",
    "df"
   ]
  },
  {
   "cell_type": "code",
   "execution_count": 12,
   "metadata": {},
   "outputs": [
    {
     "data": {
      "image/png": "[encoded data removed]",
      "text/plain": [
       "<Figure size 1368x864 with 1 Axes>"
      ]
     },
     "metadata": {
      "needs_background": "light"
     },
     "output_type": "display_data"
    }
   ],
   "source": [
    "plt.rcParams[\"figure.figsize\"] = (19, 12)\n",
    "x = appended_mean_P1_humi.humidity\n",
    "y = appended_mean_P1_humi.P1\n",
    "\n",
    "# Calculate the point density \n",
    "xy = np.vstack([x,y])\n",
    "z = gaussian_kde(xy)(xy)\n",
    "\n",
    "fig, ax = plt.subplots()\n",
    "ax.scatter(x, y, c=z, s=30, edgecolor='',marker = \"x\", cmap=plt.cm.jet)\n",
    "\n",
    "# Sort the points by density, so that the densest points are plotted last\n",
    "idx = z.argsort()\n",
    "x, y, z = x[idx], y[idx], z[idx]\n",
    "\n",
    "plt.xlabel('humidity', fontsize=20)\n",
    "plt.ylabel('P1', fontsize=20)\n",
    "plt.show()"
   ]
  },
  {
   "cell_type": "markdown",
   "metadata": {},
   "source": [
    "# Z-score (Standard Deviation)"
   ]
  },
  {
   "cell_type": "code",
   "execution_count": 13,
   "metadata": {},
   "outputs": [
    {
     "data": {
      "text/html": [
       "<div>\n",
       "<style scoped>\n",
       "    .dataframe tbody tr th:only-of-type {\n",
       "        vertical-align: middle;\n",
       "    }\n",
       "\n",
       "    .dataframe tbody tr th {\n",
       "        vertical-align: top;\n",
       "    }\n",
       "\n",
       "    .dataframe thead th {\n",
       "        text-align: right;\n",
       "    }\n",
       "</style>\n",
       "<table border=\"1\" class=\"dataframe\">\n",
       "  <thead>\n",
       "    <tr style=\"text-align: right;\">\n",
       "      <th></th>\n",
       "      <th>P1</th>\n",
       "      <th>humidity</th>\n",
       "    </tr>\n",
       "  </thead>\n",
       "  <tbody>\n",
       "    <tr>\n",
       "      <th>2017-01-02 00:00:00</th>\n",
       "      <td>1390.907851</td>\n",
       "      <td>78.537593</td>\n",
       "    </tr>\n",
       "    <tr>\n",
       "      <th>2017-01-02 01:00:00</th>\n",
       "      <td>485.289026</td>\n",
       "      <td>79.841981</td>\n",
       "    </tr>\n",
       "    <tr>\n",
       "      <th>2017-01-02 02:00:00</th>\n",
       "      <td>874.504325</td>\n",
       "      <td>79.827335</td>\n",
       "    </tr>\n",
       "    <tr>\n",
       "      <th>2017-01-02 03:00:00</th>\n",
       "      <td>449.250815</td>\n",
       "      <td>80.016781</td>\n",
       "    </tr>\n",
       "    <tr>\n",
       "      <th>2017-01-02 04:00:00</th>\n",
       "      <td>874.859992</td>\n",
       "      <td>79.923909</td>\n",
       "    </tr>\n",
       "    <tr>\n",
       "      <th>...</th>\n",
       "      <td>...</td>\n",
       "      <td>...</td>\n",
       "    </tr>\n",
       "    <tr>\n",
       "      <th>2017-01-02 19:00:00</th>\n",
       "      <td>774.643935</td>\n",
       "      <td>80.585891</td>\n",
       "    </tr>\n",
       "    <tr>\n",
       "      <th>2017-01-02 20:00:00</th>\n",
       "      <td>916.718162</td>\n",
       "      <td>80.800388</td>\n",
       "    </tr>\n",
       "    <tr>\n",
       "      <th>2017-01-02 21:00:00</th>\n",
       "      <td>1005.864328</td>\n",
       "      <td>80.566069</td>\n",
       "    </tr>\n",
       "    <tr>\n",
       "      <th>2017-01-02 22:00:00</th>\n",
       "      <td>1034.373806</td>\n",
       "      <td>80.580506</td>\n",
       "    </tr>\n",
       "    <tr>\n",
       "      <th>2017-01-02 23:00:00</th>\n",
       "      <td>809.709398</td>\n",
       "      <td>80.421680</td>\n",
       "    </tr>\n",
       "  </tbody>\n",
       "</table>\n",
       "<p>23 rows × 2 columns</p>\n",
       "</div>"
      ],
      "text/plain": [
       "                              P1   humidity\n",
       "2017-01-02 00:00:00  1390.907851  78.537593\n",
       "2017-01-02 01:00:00   485.289026  79.841981\n",
       "2017-01-02 02:00:00   874.504325  79.827335\n",
       "2017-01-02 03:00:00   449.250815  80.016781\n",
       "2017-01-02 04:00:00   874.859992  79.923909\n",
       "...                          ...        ...\n",
       "2017-01-02 19:00:00   774.643935  80.585891\n",
       "2017-01-02 20:00:00   916.718162  80.800388\n",
       "2017-01-02 21:00:00  1005.864328  80.566069\n",
       "2017-01-02 22:00:00  1034.373806  80.580506\n",
       "2017-01-02 23:00:00   809.709398  80.421680\n",
       "\n",
       "[23 rows x 2 columns]"
      ]
     },
     "execution_count": 13,
     "metadata": {},
     "output_type": "execute_result"
    }
   ],
   "source": [
    "P1_humi_drop_outliers = appended_mean_P1_humi[(np.abs(stats.zscore(appended_mean_P1_humi)) < 3).all(axis=1)]\n",
    "P1_humi_drop_outliers"
   ]
  },
  {
   "cell_type": "code",
   "execution_count": 14,
   "metadata": {},
   "outputs": [
    {
     "name": "stdout",
     "output_type": "stream",
     "text": [
      "[[0.93147502 0.48550772]\n",
      " [0.39573087 0.31919465]\n",
      " [0.17467339 0.31015898]\n",
      " [0.44854572 0.42703226]\n",
      " [0.17519463 0.36973733]\n",
      " [0.55884773 0.28107479]\n",
      " [0.2319609  0.15315916]\n",
      " [0.22684308 0.87077715]\n",
      " [0.20174344 1.64360507]\n",
      " [0.56319009 2.22191507]\n",
      " [0.58191768 2.1167533 ]\n",
      " [0.48936859 1.44845308]\n",
      " [0.6046711  0.84323219]\n",
      " [0.85287499 0.29433008]\n",
      " [4.28692958 0.55686179]\n",
      " [0.76249476 1.32285148]\n",
      " [0.59169318 1.01626125]\n",
      " [0.37376077 0.84416556]\n",
      " [0.67276821 0.69777716]\n",
      " [0.02832562 0.77812694]\n",
      " [0.23653878 0.9104545 ]\n",
      " [0.3671846  0.76589854]\n",
      " [0.40896591 0.77480476]\n",
      " [0.07971489 0.67682226]]\n"
     ]
    }
   ],
   "source": [
    "z = np.abs(stats.zscore(appended_mean_P1_humi))\n",
    "print(z)"
   ]
  },
  {
   "cell_type": "code",
   "execution_count": 15,
   "metadata": {},
   "outputs": [
    {
     "data": {
      "text/plain": [
       "(24, 2)"
      ]
     },
     "execution_count": 15,
     "metadata": {},
     "output_type": "execute_result"
    }
   ],
   "source": [
    "z.shape"
   ]
  },
  {
   "cell_type": "code",
   "execution_count": 16,
   "metadata": {},
   "outputs": [
    {
     "name": "stdout",
     "output_type": "stream",
     "text": [
      "(array([14]), array([0]))\n"
     ]
    }
   ],
   "source": [
    "threshold = 3\n",
    "print(np.where(z > 3))"
   ]
  },
  {
   "cell_type": "code",
   "execution_count": 17,
   "metadata": {},
   "outputs": [
    {
     "name": "stdout",
     "output_type": "stream",
     "text": [
      "0.39573086630737314\n"
     ]
    }
   ],
   "source": [
    "print(z[1][0])"
   ]
  },
  {
   "cell_type": "code",
   "execution_count": 18,
   "metadata": {},
   "outputs": [
    {
     "data": {
      "image/png": "[encoded data removed]",
      "text/plain": [
       "<Figure size 1368x864 with 1 Axes>"
      ]
     },
     "metadata": {
      "needs_background": "light"
     },
     "output_type": "display_data"
    }
   ],
   "source": [
    "#plotting with z-score\n",
    "plt.rcParams[\"figure.figsize\"] = (19, 12)\n",
    "x = P1_humi_drop_outliers.humidity\n",
    "y = P1_humi_drop_outliers.P1\n",
    "\n",
    "# Calculate the point density\n",
    "xy = np.vstack([x,y])\n",
    "z = gaussian_kde(xy)(xy)\n",
    "\n",
    "# Sort the points by density, so that the densest points are plotted last\n",
    "idx = z.argsort()\n",
    "x, y, z = x[idx], y[idx], z[idx]\n",
    "\n",
    "fig, ax = plt.subplots()\n",
    "ax.scatter(x, y, c=z, s=30, edgecolor='',marker = \"x\", cmap=plt.cm.jet)\n",
    "plt.xlabel('temperature', fontsize=20)\n",
    "plt.ylabel('P1', fontsize=20)\n",
    "plt.show()"
   ]
  },
  {
   "cell_type": "markdown",
   "metadata": {},
   "source": [
    "# IQR score, IQR = Q3 − Q1"
   ]
  },
  {
   "cell_type": "code",
   "execution_count": 19,
   "metadata": {},
   "outputs": [
    {
     "name": "stdout",
     "output_type": "stream",
     "text": [
      "P1          530.301745\n",
      "humidity      2.177049\n",
      "dtype: float64\n"
     ]
    }
   ],
   "source": [
    "Q1 = appended_mean_P1_humi.quantile(0.25)\n",
    "Q3 = appended_mean_P1_humi.quantile(0.75)\n",
    "IQR = Q3 - Q1\n",
    "print(IQR)"
   ]
  },
  {
   "cell_type": "code",
   "execution_count": 20,
   "metadata": {},
   "outputs": [
    {
     "data": {
      "text/html": [
       "<div>\n",
       "<style scoped>\n",
       "    .dataframe tbody tr th:only-of-type {\n",
       "        vertical-align: middle;\n",
       "    }\n",
       "\n",
       "    .dataframe tbody tr th {\n",
       "        vertical-align: top;\n",
       "    }\n",
       "\n",
       "    .dataframe thead th {\n",
       "        text-align: right;\n",
       "    }\n",
       "</style>\n",
       "<table border=\"1\" class=\"dataframe\">\n",
       "  <thead>\n",
       "    <tr style=\"text-align: right;\">\n",
       "      <th></th>\n",
       "      <th>P1</th>\n",
       "      <th>humidity</th>\n",
       "    </tr>\n",
       "  </thead>\n",
       "  <tbody>\n",
       "    <tr>\n",
       "      <th>2017-01-02 00:00:00</th>\n",
       "      <td>False</td>\n",
       "      <td>False</td>\n",
       "    </tr>\n",
       "    <tr>\n",
       "      <th>2017-01-02 01:00:00</th>\n",
       "      <td>False</td>\n",
       "      <td>False</td>\n",
       "    </tr>\n",
       "    <tr>\n",
       "      <th>2017-01-02 02:00:00</th>\n",
       "      <td>False</td>\n",
       "      <td>False</td>\n",
       "    </tr>\n",
       "    <tr>\n",
       "      <th>2017-01-02 03:00:00</th>\n",
       "      <td>False</td>\n",
       "      <td>False</td>\n",
       "    </tr>\n",
       "    <tr>\n",
       "      <th>2017-01-02 04:00:00</th>\n",
       "      <td>False</td>\n",
       "      <td>False</td>\n",
       "    </tr>\n",
       "    <tr>\n",
       "      <th>...</th>\n",
       "      <td>...</td>\n",
       "      <td>...</td>\n",
       "    </tr>\n",
       "    <tr>\n",
       "      <th>2017-01-02 19:00:00</th>\n",
       "      <td>False</td>\n",
       "      <td>False</td>\n",
       "    </tr>\n",
       "    <tr>\n",
       "      <th>2017-01-02 20:00:00</th>\n",
       "      <td>False</td>\n",
       "      <td>False</td>\n",
       "    </tr>\n",
       "    <tr>\n",
       "      <th>2017-01-02 21:00:00</th>\n",
       "      <td>False</td>\n",
       "      <td>False</td>\n",
       "    </tr>\n",
       "    <tr>\n",
       "      <th>2017-01-02 22:00:00</th>\n",
       "      <td>False</td>\n",
       "      <td>False</td>\n",
       "    </tr>\n",
       "    <tr>\n",
       "      <th>2017-01-02 23:00:00</th>\n",
       "      <td>False</td>\n",
       "      <td>False</td>\n",
       "    </tr>\n",
       "  </tbody>\n",
       "</table>\n",
       "<p>24 rows × 2 columns</p>\n",
       "</div>"
      ],
      "text/plain": [
       "                        P1  humidity\n",
       "2017-01-02 00:00:00  False     False\n",
       "2017-01-02 01:00:00  False     False\n",
       "2017-01-02 02:00:00  False     False\n",
       "2017-01-02 03:00:00  False     False\n",
       "2017-01-02 04:00:00  False     False\n",
       "...                    ...       ...\n",
       "2017-01-02 19:00:00  False     False\n",
       "2017-01-02 20:00:00  False     False\n",
       "2017-01-02 21:00:00  False     False\n",
       "2017-01-02 22:00:00  False     False\n",
       "2017-01-02 23:00:00  False     False\n",
       "\n",
       "[24 rows x 2 columns]"
      ]
     },
     "execution_count": 20,
     "metadata": {},
     "output_type": "execute_result"
    }
   ],
   "source": [
    "df = (appended_mean_P1_humi < (Q1 - 1.5 * IQR)) |(appended_mean_P1_humi > (Q3 + 1.5 * IQR))\n",
    "df"
   ]
  },
  {
   "cell_type": "code",
   "execution_count": 25,
   "metadata": {},
   "outputs": [
    {
     "data": {
      "text/html": [
       "<div>\n",
       "<style scoped>\n",
       "    .dataframe tbody tr th:only-of-type {\n",
       "        vertical-align: middle;\n",
       "    }\n",
       "\n",
       "    .dataframe tbody tr th {\n",
       "        vertical-align: top;\n",
       "    }\n",
       "\n",
       "    .dataframe thead th {\n",
       "        text-align: right;\n",
       "    }\n",
       "</style>\n",
       "<table border=\"1\" class=\"dataframe\">\n",
       "  <thead>\n",
       "    <tr style=\"text-align: right;\">\n",
       "      <th></th>\n",
       "      <th>P1</th>\n",
       "      <th>humidity</th>\n",
       "    </tr>\n",
       "  </thead>\n",
       "  <tbody>\n",
       "    <tr>\n",
       "      <th>2017-01-02 00:00:00</th>\n",
       "      <td>False</td>\n",
       "      <td>False</td>\n",
       "    </tr>\n",
       "    <tr>\n",
       "      <th>2017-01-02 01:00:00</th>\n",
       "      <td>False</td>\n",
       "      <td>False</td>\n",
       "    </tr>\n",
       "    <tr>\n",
       "      <th>2017-01-02 02:00:00</th>\n",
       "      <td>False</td>\n",
       "      <td>False</td>\n",
       "    </tr>\n",
       "    <tr>\n",
       "      <th>2017-01-02 03:00:00</th>\n",
       "      <td>False</td>\n",
       "      <td>False</td>\n",
       "    </tr>\n",
       "    <tr>\n",
       "      <th>2017-01-02 04:00:00</th>\n",
       "      <td>False</td>\n",
       "      <td>False</td>\n",
       "    </tr>\n",
       "    <tr>\n",
       "      <th>...</th>\n",
       "      <td>...</td>\n",
       "      <td>...</td>\n",
       "    </tr>\n",
       "    <tr>\n",
       "      <th>2017-01-02 19:00:00</th>\n",
       "      <td>False</td>\n",
       "      <td>False</td>\n",
       "    </tr>\n",
       "    <tr>\n",
       "      <th>2017-01-02 20:00:00</th>\n",
       "      <td>False</td>\n",
       "      <td>False</td>\n",
       "    </tr>\n",
       "    <tr>\n",
       "      <th>2017-01-02 21:00:00</th>\n",
       "      <td>False</td>\n",
       "      <td>False</td>\n",
       "    </tr>\n",
       "    <tr>\n",
       "      <th>2017-01-02 22:00:00</th>\n",
       "      <td>False</td>\n",
       "      <td>False</td>\n",
       "    </tr>\n",
       "    <tr>\n",
       "      <th>2017-01-02 23:00:00</th>\n",
       "      <td>False</td>\n",
       "      <td>False</td>\n",
       "    </tr>\n",
       "  </tbody>\n",
       "</table>\n",
       "<p>23 rows × 2 columns</p>\n",
       "</div>"
      ],
      "text/plain": [
       "                        P1  humidity\n",
       "2017-01-02 00:00:00  False     False\n",
       "2017-01-02 01:00:00  False     False\n",
       "2017-01-02 02:00:00  False     False\n",
       "2017-01-02 03:00:00  False     False\n",
       "2017-01-02 04:00:00  False     False\n",
       "...                    ...       ...\n",
       "2017-01-02 19:00:00  False     False\n",
       "2017-01-02 20:00:00  False     False\n",
       "2017-01-02 21:00:00  False     False\n",
       "2017-01-02 22:00:00  False     False\n",
       "2017-01-02 23:00:00  False     False\n",
       "\n",
       "[23 rows x 2 columns]"
      ]
     },
     "execution_count": 25,
     "metadata": {},
     "output_type": "execute_result"
    }
   ],
   "source": [
    "P1_humidity_rm_out = df[-df.P1]\n",
    "P1_humidity_rm_out = P1_humidity_rm_out[-P1_humidity_rm_out.humidity]\n",
    "P1_humidity_rm_out"
   ]
  },
  {
   "cell_type": "code",
   "execution_count": 26,
   "metadata": {},
   "outputs": [
    {
     "data": {
      "text/html": [
       "<div>\n",
       "<style scoped>\n",
       "    .dataframe tbody tr th:only-of-type {\n",
       "        vertical-align: middle;\n",
       "    }\n",
       "\n",
       "    .dataframe tbody tr th {\n",
       "        vertical-align: top;\n",
       "    }\n",
       "\n",
       "    .dataframe thead th {\n",
       "        text-align: right;\n",
       "    }\n",
       "</style>\n",
       "<table border=\"1\" class=\"dataframe\">\n",
       "  <thead>\n",
       "    <tr style=\"text-align: right;\">\n",
       "      <th></th>\n",
       "      <th>P1</th>\n",
       "      <th>humidity</th>\n",
       "    </tr>\n",
       "  </thead>\n",
       "  <tbody>\n",
       "    <tr>\n",
       "      <th>2017-01-02 00:00:00</th>\n",
       "      <td>1390.907851</td>\n",
       "      <td>78.537593</td>\n",
       "    </tr>\n",
       "    <tr>\n",
       "      <th>2017-01-02 01:00:00</th>\n",
       "      <td>485.289026</td>\n",
       "      <td>79.841981</td>\n",
       "    </tr>\n",
       "    <tr>\n",
       "      <th>2017-01-02 02:00:00</th>\n",
       "      <td>874.504325</td>\n",
       "      <td>79.827335</td>\n",
       "    </tr>\n",
       "    <tr>\n",
       "      <th>2017-01-02 03:00:00</th>\n",
       "      <td>449.250815</td>\n",
       "      <td>80.016781</td>\n",
       "    </tr>\n",
       "    <tr>\n",
       "      <th>2017-01-02 04:00:00</th>\n",
       "      <td>874.859992</td>\n",
       "      <td>79.923909</td>\n",
       "    </tr>\n",
       "    <tr>\n",
       "      <th>...</th>\n",
       "      <td>...</td>\n",
       "      <td>...</td>\n",
       "    </tr>\n",
       "    <tr>\n",
       "      <th>2017-01-02 19:00:00</th>\n",
       "      <td>774.643935</td>\n",
       "      <td>80.585891</td>\n",
       "    </tr>\n",
       "    <tr>\n",
       "      <th>2017-01-02 20:00:00</th>\n",
       "      <td>916.718162</td>\n",
       "      <td>80.800388</td>\n",
       "    </tr>\n",
       "    <tr>\n",
       "      <th>2017-01-02 21:00:00</th>\n",
       "      <td>1005.864328</td>\n",
       "      <td>80.566069</td>\n",
       "    </tr>\n",
       "    <tr>\n",
       "      <th>2017-01-02 22:00:00</th>\n",
       "      <td>1034.373806</td>\n",
       "      <td>80.580506</td>\n",
       "    </tr>\n",
       "    <tr>\n",
       "      <th>2017-01-02 23:00:00</th>\n",
       "      <td>809.709398</td>\n",
       "      <td>80.421680</td>\n",
       "    </tr>\n",
       "  </tbody>\n",
       "</table>\n",
       "<p>23 rows × 2 columns</p>\n",
       "</div>"
      ],
      "text/plain": [
       "                              P1   humidity\n",
       "2017-01-02 00:00:00  1390.907851  78.537593\n",
       "2017-01-02 01:00:00   485.289026  79.841981\n",
       "2017-01-02 02:00:00   874.504325  79.827335\n",
       "2017-01-02 03:00:00   449.250815  80.016781\n",
       "2017-01-02 04:00:00   874.859992  79.923909\n",
       "...                          ...        ...\n",
       "2017-01-02 19:00:00   774.643935  80.585891\n",
       "2017-01-02 20:00:00   916.718162  80.800388\n",
       "2017-01-02 21:00:00  1005.864328  80.566069\n",
       "2017-01-02 22:00:00  1034.373806  80.580506\n",
       "2017-01-02 23:00:00   809.709398  80.421680\n",
       "\n",
       "[23 rows x 2 columns]"
      ]
     },
     "execution_count": 26,
     "metadata": {},
     "output_type": "execute_result"
    }
   ],
   "source": [
    "appended_mean_P1_humi_valid = appended_mean_P1_humi[~((appended_mean_P1_humi < (Q1 - 1.5 * IQR)) |(appended_mean_P1_humi > (Q3 + 1.5 * IQR))).any(axis=1)]\n",
    "appended_mean_P1_humi_valid"
   ]
  },
  {
   "cell_type": "code",
   "execution_count": 27,
   "metadata": {},
   "outputs": [
    {
     "data": {
      "image/png": "[encoded data removed]",
      "text/plain": [
       "<Figure size 1368x864 with 1 Axes>"
      ]
     },
     "metadata": {
      "needs_background": "light"
     },
     "output_type": "display_data"
    }
   ],
   "source": [
    "# plotting with IQR-score\n",
    "plt.rcParams[\"figure.figsize\"] = (19, 12)\n",
    "x = appended_mean_P1_humi_valid.humidity\n",
    "y = appended_mean_P1_humi_valid.P1\n",
    "\n",
    "# Calculate the point density\n",
    "xy = np.vstack([x,y])\n",
    "z = gaussian_kde(xy)(xy)\n",
    "\n",
    "fig, ax = plt.subplots()\n",
    "ax.scatter(x, y, c=z, s=30, edgecolor='',marker = \"x\", cmap=plt.cm.jet)\n",
    "\n",
    "# Sort the points by density, so that the densest points are plotted last\n",
    "idx = z.argsort()\n",
    "x, y, z = x[idx], y[idx], z[idx]\n",
    "\n",
    "plt.xlabel('temperature', fontsize=20)\n",
    "plt.ylabel('P1', fontsize=20)\n",
    "plt.show()"
   ]
  },
  {
   "cell_type": "markdown",
   "metadata": {},
   "source": [
    "# Isolation forest"
   ]
  },
  {
   "cell_type": "code",
   "execution_count": 29,
   "metadata": {},
   "outputs": [],
   "source": [
    "from sklearn.ensemble import IsolationForest"
   ]
  },
  {
   "cell_type": "code",
   "execution_count": 30,
   "metadata": {},
   "outputs": [
    {
     "name": "stderr",
     "output_type": "stream",
     "text": [
      "/opt/conda/lib/python3.7/site-packages/sklearn/ensemble/iforest.py:247: FutureWarning:\n",
      "\n",
      "behaviour=\"old\" is deprecated and will be removed in version 0.22. Please use behaviour=\"new\", which makes the decision_function change to match other anomaly detection algorithm API.\n",
      "\n"
     ]
    }
   ],
   "source": [
    "iso_forest = IsolationForest(n_estimators=300, contamination=0.10)\n",
    "iso_forest = iso_forest.fit(appended_mean_P1_humi)"
   ]
  },
  {
   "cell_type": "code",
   "execution_count": 31,
   "metadata": {},
   "outputs": [
    {
     "name": "stderr",
     "output_type": "stream",
     "text": [
      "/opt/conda/lib/python3.7/site-packages/sklearn/ensemble/iforest.py:415: DeprecationWarning:\n",
      "\n",
      "threshold_ attribute is deprecated in 0.20 and will be removed in 0.22.\n",
      "\n"
     ]
    }
   ],
   "source": [
    "isof_outliers = iso_forest.predict(appended_mean_P1_humi)"
   ]
  },
  {
   "cell_type": "code",
   "execution_count": 32,
   "metadata": {},
   "outputs": [
    {
     "name": "stderr",
     "output_type": "stream",
     "text": [
      "/opt/conda/lib/python3.7/site-packages/sklearn/ensemble/iforest.py:415: DeprecationWarning:\n",
      "\n",
      "threshold_ attribute is deprecated in 0.20 and will be removed in 0.22.\n",
      "\n"
     ]
    }
   ],
   "source": [
    "isoF_non_outliers_values = appended_mean_P1_humi[iso_forest.predict(appended_mean_P1_humi) == 1]"
   ]
  },
  {
   "cell_type": "code",
   "execution_count": 33,
   "metadata": {},
   "outputs": [
    {
     "name": "stderr",
     "output_type": "stream",
     "text": [
      "/opt/conda/lib/python3.7/site-packages/sklearn/ensemble/iforest.py:415: DeprecationWarning:\n",
      "\n",
      "threshold_ attribute is deprecated in 0.20 and will be removed in 0.22.\n",
      "\n"
     ]
    }
   ],
   "source": [
    "isoF_outliers_values = appended_mean_P1_humi[iso_forest.predict(appended_mean_P1_humi) == -1]"
   ]
  },
  {
   "cell_type": "code",
   "execution_count": 34,
   "metadata": {},
   "outputs": [
    {
     "data": {
      "text/html": [
       "<div>\n",
       "<style scoped>\n",
       "    .dataframe tbody tr th:only-of-type {\n",
       "        vertical-align: middle;\n",
       "    }\n",
       "\n",
       "    .dataframe tbody tr th {\n",
       "        vertical-align: top;\n",
       "    }\n",
       "\n",
       "    .dataframe thead th {\n",
       "        text-align: right;\n",
       "    }\n",
       "</style>\n",
       "<table border=\"1\" class=\"dataframe\">\n",
       "  <thead>\n",
       "    <tr style=\"text-align: right;\">\n",
       "      <th></th>\n",
       "      <th>P1</th>\n",
       "      <th>humidity</th>\n",
       "    </tr>\n",
       "  </thead>\n",
       "  <tbody>\n",
       "    <tr>\n",
       "      <th>2017-01-02 00:00:00</th>\n",
       "      <td>1390.907851</td>\n",
       "      <td>78.537593</td>\n",
       "    </tr>\n",
       "    <tr>\n",
       "      <th>2017-01-02 08:00:00</th>\n",
       "      <td>892.975568</td>\n",
       "      <td>76.660367</td>\n",
       "    </tr>\n",
       "    <tr>\n",
       "      <th>2017-01-02 14:00:00</th>\n",
       "      <td>3680.501985</td>\n",
       "      <td>80.227229</td>\n",
       "    </tr>\n",
       "  </tbody>\n",
       "</table>\n",
       "</div>"
      ],
      "text/plain": [
       "                              P1   humidity\n",
       "2017-01-02 00:00:00  1390.907851  78.537593\n",
       "2017-01-02 08:00:00   892.975568  76.660367\n",
       "2017-01-02 14:00:00  3680.501985  80.227229"
      ]
     },
     "execution_count": 34,
     "metadata": {},
     "output_type": "execute_result"
    }
   ],
   "source": [
    "isoF_outliers_values"
   ]
  },
  {
   "cell_type": "code",
   "execution_count": 35,
   "metadata": {},
   "outputs": [
    {
     "data": {
      "text/html": [
       "<div>\n",
       "<style scoped>\n",
       "    .dataframe tbody tr th:only-of-type {\n",
       "        vertical-align: middle;\n",
       "    }\n",
       "\n",
       "    .dataframe tbody tr th {\n",
       "        vertical-align: top;\n",
       "    }\n",
       "\n",
       "    .dataframe thead th {\n",
       "        text-align: right;\n",
       "    }\n",
       "</style>\n",
       "<table border=\"1\" class=\"dataframe\">\n",
       "  <thead>\n",
       "    <tr style=\"text-align: right;\">\n",
       "      <th></th>\n",
       "      <th>P1</th>\n",
       "      <th>humidity</th>\n",
       "    </tr>\n",
       "  </thead>\n",
       "  <tbody>\n",
       "    <tr>\n",
       "      <th>2017-01-02 01:00:00</th>\n",
       "      <td>485.289026</td>\n",
       "      <td>79.841981</td>\n",
       "    </tr>\n",
       "    <tr>\n",
       "      <th>2017-01-02 02:00:00</th>\n",
       "      <td>874.504325</td>\n",
       "      <td>79.827335</td>\n",
       "    </tr>\n",
       "    <tr>\n",
       "      <th>2017-01-02 03:00:00</th>\n",
       "      <td>449.250815</td>\n",
       "      <td>80.016781</td>\n",
       "    </tr>\n",
       "    <tr>\n",
       "      <th>2017-01-02 04:00:00</th>\n",
       "      <td>874.859992</td>\n",
       "      <td>79.923909</td>\n",
       "    </tr>\n",
       "    <tr>\n",
       "      <th>2017-01-02 05:00:00</th>\n",
       "      <td>373.986246</td>\n",
       "      <td>78.868970</td>\n",
       "    </tr>\n",
       "    <tr>\n",
       "      <th>...</th>\n",
       "      <td>...</td>\n",
       "      <td>...</td>\n",
       "    </tr>\n",
       "    <tr>\n",
       "      <th>2017-01-02 19:00:00</th>\n",
       "      <td>774.643935</td>\n",
       "      <td>80.585891</td>\n",
       "    </tr>\n",
       "    <tr>\n",
       "      <th>2017-01-02 20:00:00</th>\n",
       "      <td>916.718162</td>\n",
       "      <td>80.800388</td>\n",
       "    </tr>\n",
       "    <tr>\n",
       "      <th>2017-01-02 21:00:00</th>\n",
       "      <td>1005.864328</td>\n",
       "      <td>80.566069</td>\n",
       "    </tr>\n",
       "    <tr>\n",
       "      <th>2017-01-02 22:00:00</th>\n",
       "      <td>1034.373806</td>\n",
       "      <td>80.580506</td>\n",
       "    </tr>\n",
       "    <tr>\n",
       "      <th>2017-01-02 23:00:00</th>\n",
       "      <td>809.709398</td>\n",
       "      <td>80.421680</td>\n",
       "    </tr>\n",
       "  </tbody>\n",
       "</table>\n",
       "<p>21 rows × 2 columns</p>\n",
       "</div>"
      ],
      "text/plain": [
       "                              P1   humidity\n",
       "2017-01-02 01:00:00   485.289026  79.841981\n",
       "2017-01-02 02:00:00   874.504325  79.827335\n",
       "2017-01-02 03:00:00   449.250815  80.016781\n",
       "2017-01-02 04:00:00   874.859992  79.923909\n",
       "2017-01-02 05:00:00   373.986246  78.868970\n",
       "...                          ...        ...\n",
       "2017-01-02 19:00:00   774.643935  80.585891\n",
       "2017-01-02 20:00:00   916.718162  80.800388\n",
       "2017-01-02 21:00:00  1005.864328  80.566069\n",
       "2017-01-02 22:00:00  1034.373806  80.580506\n",
       "2017-01-02 23:00:00   809.709398  80.421680\n",
       "\n",
       "[21 rows x 2 columns]"
      ]
     },
     "execution_count": 35,
     "metadata": {},
     "output_type": "execute_result"
    }
   ],
   "source": [
    "isoF_non_outliers_values"
   ]
  },
  {
   "cell_type": "code",
   "execution_count": 36,
   "metadata": {},
   "outputs": [
    {
     "data": {
      "image/png": "[encoded data removed]",
      "text/plain": [
       "<Figure size 1368x864 with 1 Axes>"
      ]
     },
     "metadata": {
      "needs_background": "light"
     },
     "output_type": "display_data"
    }
   ],
   "source": [
    "# plotting with isolation forest\n",
    "plt.rcParams[\"figure.figsize\"] = (19, 12)\n",
    "x = isoF_non_outliers_values.humidity\n",
    "y = isoF_non_outliers_values.P1\n",
    "\n",
    "# Calculate the point density\n",
    "xy = np.vstack([x,y])\n",
    "z = gaussian_kde(xy)(xy)\n",
    "\n",
    "fig, ax = plt.subplots()\n",
    "ax.scatter(x, y, c=z, s=30, edgecolor='',marker = \"x\", cmap=plt.cm.jet)\n",
    "\n",
    "# Sort the points by density, so that the densest points are plotted last\n",
    "idx = z.argsort()\n",
    "x, y, z = x[idx], y[idx], z[idx]\n",
    "\n",
    "plt.xlabel('temperature', fontsize=20)\n",
    "plt.ylabel('P1', fontsize=20)\n",
    "plt.show()"
   ]
  },
  {
   "cell_type": "code",
   "execution_count": 37,
   "metadata": {},
   "outputs": [
    {
     "data": {
      "text/plain": [
       "0.2988029543679465"
      ]
     },
     "execution_count": 37,
     "metadata": {},
     "output_type": "execute_result"
    }
   ],
   "source": [
    "isoF_non_outliers_values['P1'].corr(isoF_non_outliers_values['humidity'])"
   ]
  },
  {
   "cell_type": "code",
   "execution_count": 39,
   "metadata": {},
   "outputs": [
    {
     "name": "stdout",
     "output_type": "stream",
     "text": [
      "                P1  humidity\n",
      "P1        1.000000  0.298803\n",
      "humidity  0.298803  1.000000\n"
     ]
    }
   ],
   "source": [
    "corrMatrix = isoF_non_outliers_values.corr()\n",
    "print (corrMatrix)"
   ]
  }
 ],
 "metadata": {
  "kernelspec": {
   "display_name": "Python 3 (ipykernel)",
   "language": "python",
   "name": "python3"
  },
  "language_info": {
   "codemirror_mode": {
    "name": "ipython",
    "version": 3
   },
   "file_extension": ".py",
   "mimetype": "text/x-python",
   "name": "python",
   "nbconvert_exporter": "python",
   "pygments_lexer": "ipython3",
   "version": "3.10.6"
  }
 },
 "nbformat": 4,
 "nbformat_minor": 4
}
